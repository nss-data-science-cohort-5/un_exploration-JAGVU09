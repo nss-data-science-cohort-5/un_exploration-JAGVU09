{
 "cells": [
  {
   "cell_type": "code",
   "execution_count": 1,
   "id": "792d6f5d",
   "metadata": {},
   "outputs": [],
   "source": [
    "import pandas as pd\n",
    "import numpy as np  \n",
    "import matplotlib.pyplot as plt\n",
    "import seaborn as sns\n",
    "%matplotlib inline"
   ]
  },
  {
   "cell_type": "code",
   "execution_count": 2,
   "id": "62002a94",
   "metadata": {},
   "outputs": [
    {
     "data": {
      "text/html": [
       "<div>\n",
       "<style scoped>\n",
       "    .dataframe tbody tr th:only-of-type {\n",
       "        vertical-align: middle;\n",
       "    }\n",
       "\n",
       "    .dataframe tbody tr th {\n",
       "        vertical-align: top;\n",
       "    }\n",
       "\n",
       "    .dataframe thead th {\n",
       "        text-align: right;\n",
       "    }\n",
       "</style>\n",
       "<table border=\"1\" class=\"dataframe\">\n",
       "  <thead>\n",
       "    <tr style=\"text-align: right;\">\n",
       "      <th></th>\n",
       "      <th>Country or Area</th>\n",
       "      <th>Year</th>\n",
       "      <th>Value</th>\n",
       "      <th>Value Footnotes</th>\n",
       "    </tr>\n",
       "  </thead>\n",
       "  <tbody>\n",
       "    <tr>\n",
       "      <th>0</th>\n",
       "      <td>Afghanistan</td>\n",
       "      <td>2019</td>\n",
       "      <td>2065.036398</td>\n",
       "      <td>NaN</td>\n",
       "    </tr>\n",
       "    <tr>\n",
       "      <th>1</th>\n",
       "      <td>Afghanistan</td>\n",
       "      <td>2018</td>\n",
       "      <td>2033.779002</td>\n",
       "      <td>NaN</td>\n",
       "    </tr>\n",
       "    <tr>\n",
       "      <th>2</th>\n",
       "      <td>Afghanistan</td>\n",
       "      <td>2017</td>\n",
       "      <td>2058.383832</td>\n",
       "      <td>NaN</td>\n",
       "    </tr>\n",
       "    <tr>\n",
       "      <th>3</th>\n",
       "      <td>Afghanistan</td>\n",
       "      <td>2016</td>\n",
       "      <td>2057.062164</td>\n",
       "      <td>NaN</td>\n",
       "    </tr>\n",
       "    <tr>\n",
       "      <th>4</th>\n",
       "      <td>Afghanistan</td>\n",
       "      <td>2015</td>\n",
       "      <td>2068.265904</td>\n",
       "      <td>NaN</td>\n",
       "    </tr>\n",
       "    <tr>\n",
       "      <th>5</th>\n",
       "      <td>Afghanistan</td>\n",
       "      <td>2014</td>\n",
       "      <td>2102.385234</td>\n",
       "      <td>NaN</td>\n",
       "    </tr>\n",
       "    <tr>\n",
       "      <th>6</th>\n",
       "      <td>Afghanistan</td>\n",
       "      <td>2013</td>\n",
       "      <td>2116.465454</td>\n",
       "      <td>NaN</td>\n",
       "    </tr>\n",
       "    <tr>\n",
       "      <th>7</th>\n",
       "      <td>Afghanistan</td>\n",
       "      <td>2012</td>\n",
       "      <td>2075.491747</td>\n",
       "      <td>NaN</td>\n",
       "    </tr>\n",
       "    <tr>\n",
       "      <th>8</th>\n",
       "      <td>Afghanistan</td>\n",
       "      <td>2011</td>\n",
       "      <td>1904.559799</td>\n",
       "      <td>NaN</td>\n",
       "    </tr>\n",
       "    <tr>\n",
       "      <th>9</th>\n",
       "      <td>Afghanistan</td>\n",
       "      <td>2010</td>\n",
       "      <td>1957.029338</td>\n",
       "      <td>NaN</td>\n",
       "    </tr>\n",
       "  </tbody>\n",
       "</table>\n",
       "</div>"
      ],
      "text/plain": [
       "  Country or Area  Year        Value  Value Footnotes\n",
       "0     Afghanistan  2019  2065.036398              NaN\n",
       "1     Afghanistan  2018  2033.779002              NaN\n",
       "2     Afghanistan  2017  2058.383832              NaN\n",
       "3     Afghanistan  2016  2057.062164              NaN\n",
       "4     Afghanistan  2015  2068.265904              NaN\n",
       "5     Afghanistan  2014  2102.385234              NaN\n",
       "6     Afghanistan  2013  2116.465454              NaN\n",
       "7     Afghanistan  2012  2075.491747              NaN\n",
       "8     Afghanistan  2011  1904.559799              NaN\n",
       "9     Afghanistan  2010  1957.029338              NaN"
      ]
     },
     "execution_count": 2,
     "metadata": {},
     "output_type": "execute_result"
    }
   ],
   "source": [
    "gdp_df = pd.read_csv('../data/gdp_per_capita.csv', skipfooter=2, engine = 'python')#skipfooter fixed the erroneous rows at the end of the dataset\n",
    "gdp_df.head(10)"
   ]
  },
  {
   "cell_type": "markdown",
   "id": "670df562",
   "metadata": {},
   "source": [
    "5. Added skipfooter = 2 to avoid the last two rows of the dataframe which had some footer data pertaining to the data exluded for South Sudan"
   ]
  },
  {
   "cell_type": "code",
   "execution_count": 3,
   "id": "683b1f0e",
   "metadata": {},
   "outputs": [
    {
     "data": {
      "text/html": [
       "<div>\n",
       "<style scoped>\n",
       "    .dataframe tbody tr th:only-of-type {\n",
       "        vertical-align: middle;\n",
       "    }\n",
       "\n",
       "    .dataframe tbody tr th {\n",
       "        vertical-align: top;\n",
       "    }\n",
       "\n",
       "    .dataframe thead th {\n",
       "        text-align: right;\n",
       "    }\n",
       "</style>\n",
       "<table border=\"1\" class=\"dataframe\">\n",
       "  <thead>\n",
       "    <tr style=\"text-align: right;\">\n",
       "      <th></th>\n",
       "      <th>Country or Area</th>\n",
       "      <th>Year</th>\n",
       "      <th>Value</th>\n",
       "      <th>Value Footnotes</th>\n",
       "    </tr>\n",
       "  </thead>\n",
       "  <tbody>\n",
       "    <tr>\n",
       "      <th>6863</th>\n",
       "      <td>Zimbabwe</td>\n",
       "      <td>1994</td>\n",
       "      <td>3263.934978</td>\n",
       "      <td>NaN</td>\n",
       "    </tr>\n",
       "    <tr>\n",
       "      <th>6864</th>\n",
       "      <td>Zimbabwe</td>\n",
       "      <td>1993</td>\n",
       "      <td>3033.504852</td>\n",
       "      <td>NaN</td>\n",
       "    </tr>\n",
       "    <tr>\n",
       "      <th>6865</th>\n",
       "      <td>Zimbabwe</td>\n",
       "      <td>1992</td>\n",
       "      <td>3054.889178</td>\n",
       "      <td>NaN</td>\n",
       "    </tr>\n",
       "    <tr>\n",
       "      <th>6866</th>\n",
       "      <td>Zimbabwe</td>\n",
       "      <td>1991</td>\n",
       "      <td>3426.598094</td>\n",
       "      <td>NaN</td>\n",
       "    </tr>\n",
       "    <tr>\n",
       "      <th>6867</th>\n",
       "      <td>Zimbabwe</td>\n",
       "      <td>1990</td>\n",
       "      <td>3324.348171</td>\n",
       "      <td>NaN</td>\n",
       "    </tr>\n",
       "  </tbody>\n",
       "</table>\n",
       "</div>"
      ],
      "text/plain": [
       "     Country or Area  Year        Value  Value Footnotes\n",
       "6863        Zimbabwe  1994  3263.934978              NaN\n",
       "6864        Zimbabwe  1993  3033.504852              NaN\n",
       "6865        Zimbabwe  1992  3054.889178              NaN\n",
       "6866        Zimbabwe  1991  3426.598094              NaN\n",
       "6867        Zimbabwe  1990  3324.348171              NaN"
      ]
     },
     "execution_count": 3,
     "metadata": {},
     "output_type": "execute_result"
    }
   ],
   "source": [
    "gdp_df[-5:]"
   ]
  },
  {
   "cell_type": "code",
   "execution_count": 4,
   "id": "53558cf1",
   "metadata": {},
   "outputs": [
    {
     "name": "stdout",
     "output_type": "stream",
     "text": [
      "<class 'pandas.core.frame.DataFrame'>\n",
      "RangeIndex: 6868 entries, 0 to 6867\n",
      "Data columns (total 3 columns):\n",
      " #   Column          Non-Null Count  Dtype  \n",
      "---  ------          --------------  -----  \n",
      " 0   Country         6868 non-null   object \n",
      " 1   Year            6868 non-null   int64  \n",
      " 2   GDP_per_Capita  6868 non-null   float64\n",
      "dtypes: float64(1), int64(1), object(1)\n",
      "memory usage: 161.1+ KB\n"
     ]
    }
   ],
   "source": [
    "gdp_df = (gdp_df\n",
    "          .drop(columns = \"Value Footnotes\")\n",
    "          .rename(columns={\"Country or Area\": \"Country\", \"Value\": \"GDP_per_Capita\"}))\n",
    "                \n",
    "gdp_df.info()"
   ]
  },
  {
   "cell_type": "markdown",
   "id": "c63dfcb2",
   "metadata": {},
   "source": [
    "## 7. Rows = 3, Columns 6868\n",
    "\n",
    "Country is an object, Year is a interger, GDP_per_Capita is a float"
   ]
  },
  {
   "cell_type": "code",
   "execution_count": 5,
   "id": "3a52f050",
   "metadata": {},
   "outputs": [
    {
     "name": "stdout",
     "output_type": "stream",
     "text": [
      "1990\n",
      "2019\n"
     ]
    }
   ],
   "source": [
    "print(gdp_df[\"Year\"].min())\n",
    "\n",
    "print(gdp_df[\"Year\"].max())"
   ]
  },
  {
   "cell_type": "markdown",
   "id": "82de0ef0",
   "metadata": {},
   "source": [
    "## 8. Years 1990-2019 are represented"
   ]
  },
  {
   "cell_type": "code",
   "execution_count": 6,
   "id": "e7969f1a",
   "metadata": {},
   "outputs": [
    {
     "data": {
      "text/plain": [
       "2013    238\n",
       "2014    238\n",
       "2016    238\n",
       "2015    238\n",
       "2017    238\n",
       "2012    237\n",
       "2018    237\n",
       "2011    237\n",
       "2009    236\n",
       "2010    236\n",
       "2007    235\n",
       "2008    235\n",
       "2006    235\n",
       "2004    234\n",
       "2005    234\n",
       "2002    233\n",
       "2003    233\n",
       "2001    232\n",
       "2019    231\n",
       "2000    231\n",
       "1999    224\n",
       "1998    223\n",
       "1997    223\n",
       "1996    221\n",
       "1995    221\n",
       "1994    214\n",
       "1993    212\n",
       "1992    209\n",
       "1991    208\n",
       "1990    207\n",
       "Name: Year, dtype: int64"
      ]
     },
     "execution_count": 6,
     "metadata": {},
     "output_type": "execute_result"
    }
   ],
   "source": [
    "gdp_df[\"Year\"].value_counts(sort = True)"
   ]
  },
  {
   "cell_type": "markdown",
   "id": "b0945a73",
   "metadata": {},
   "source": [
    "8. the number of observations increases from 1990 with 207 observations  until 2017 with 238. 2018 and 2019 decreased slightly with 237 and 231 observations, respectively. "
   ]
  },
  {
   "cell_type": "code",
   "execution_count": 7,
   "id": "94237acb",
   "metadata": {},
   "outputs": [
    {
     "name": "stdout",
     "output_type": "stream",
     "text": [
      "                  Country  Year  GDP_per_Capita\n",
      "0             Afghanistan  2019     2065.036398\n",
      "18                Albania  2019    13724.058790\n",
      "48                Algeria  2019    11510.557088\n",
      "78                 Angola  2019     6670.332297\n",
      "108   Antigua and Barbuda  2019    21910.184985\n",
      "...                   ...   ...             ...\n",
      "6722              Vietnam  2019     8041.178551\n",
      "6752   West Bank and Gaza  2019     6219.960291\n",
      "6778                World  2019    16911.193295\n",
      "6808               Zambia  2019     3470.448801\n",
      "6838             Zimbabwe  2019     2835.948532\n",
      "\n",
      "[238 rows x 3 columns]\n"
     ]
    }
   ],
   "source": [
    "countries_of_gdp_df = gdp_df.drop_duplicates(subset=\"Country\")\n",
    "print(countries_of_gdp_df)"
   ]
  },
  {
   "cell_type": "markdown",
   "id": "11c8441b",
   "metadata": {},
   "source": [
    "## 9. 238 Countries are in the data set. Djibouti is represented the least. Several countries have 30 observations which is the most observations. They have fewer observations because they didn't report their GDP to the UN possibly.  "
   ]
  },
  {
   "cell_type": "code",
   "execution_count": 8,
   "id": "3d67286d",
   "metadata": {},
   "outputs": [
    {
     "data": {
      "text/plain": [
       "Niger                        30\n",
       "Sweden                       30\n",
       "United Arab Emirates         30\n",
       "Costa Rica                   30\n",
       "Lower middle income          30\n",
       "                             ..\n",
       "Nauru                        16\n",
       "Cayman Islands               13\n",
       "Sint Maarten (Dutch part)    10\n",
       "Turks and Caicos Islands      9\n",
       "Djibouti                      7\n",
       "Name: Country, Length: 238, dtype: int64"
      ]
     },
     "execution_count": 8,
     "metadata": {},
     "output_type": "execute_result"
    }
   ],
   "source": [
    "gdp_df[\"Country\"].value_counts(sort = True)"
   ]
  },
  {
   "cell_type": "code",
   "execution_count": 9,
   "id": "e5c9c8cb",
   "metadata": {},
   "outputs": [],
   "source": [
    "gdp_2014 = gdp_df.loc[gdp_df['Year'] == 2014]"
   ]
  },
  {
   "cell_type": "code",
   "execution_count": 10,
   "id": "fccba7b3",
   "metadata": {},
   "outputs": [
    {
     "data": {
      "text/html": [
       "<div>\n",
       "<style scoped>\n",
       "    .dataframe tbody tr th:only-of-type {\n",
       "        vertical-align: middle;\n",
       "    }\n",
       "\n",
       "    .dataframe tbody tr th {\n",
       "        vertical-align: top;\n",
       "    }\n",
       "\n",
       "    .dataframe thead th {\n",
       "        text-align: right;\n",
       "    }\n",
       "</style>\n",
       "<table border=\"1\" class=\"dataframe\">\n",
       "  <thead>\n",
       "    <tr style=\"text-align: right;\">\n",
       "      <th></th>\n",
       "      <th>Year</th>\n",
       "      <th>GDP_per_Capita</th>\n",
       "    </tr>\n",
       "  </thead>\n",
       "  <tbody>\n",
       "    <tr>\n",
       "      <th>count</th>\n",
       "      <td>238.0</td>\n",
       "      <td>238.000000</td>\n",
       "    </tr>\n",
       "    <tr>\n",
       "      <th>mean</th>\n",
       "      <td>2014.0</td>\n",
       "      <td>19766.710348</td>\n",
       "    </tr>\n",
       "    <tr>\n",
       "      <th>std</th>\n",
       "      <td>0.0</td>\n",
       "      <td>20983.869623</td>\n",
       "    </tr>\n",
       "    <tr>\n",
       "      <th>min</th>\n",
       "      <td>2014.0</td>\n",
       "      <td>822.610458</td>\n",
       "    </tr>\n",
       "    <tr>\n",
       "      <th>25%</th>\n",
       "      <td>2014.0</td>\n",
       "      <td>4753.110934</td>\n",
       "    </tr>\n",
       "    <tr>\n",
       "      <th>50%</th>\n",
       "      <td>2014.0</td>\n",
       "      <td>12209.385755</td>\n",
       "    </tr>\n",
       "    <tr>\n",
       "      <th>75%</th>\n",
       "      <td>2014.0</td>\n",
       "      <td>26803.610474</td>\n",
       "    </tr>\n",
       "    <tr>\n",
       "      <th>max</th>\n",
       "      <td>2014.0</td>\n",
       "      <td>156514.133850</td>\n",
       "    </tr>\n",
       "  </tbody>\n",
       "</table>\n",
       "</div>"
      ],
      "text/plain": [
       "         Year  GDP_per_Capita\n",
       "count   238.0      238.000000\n",
       "mean   2014.0    19766.710348\n",
       "std       0.0    20983.869623\n",
       "min    2014.0      822.610458\n",
       "25%    2014.0     4753.110934\n",
       "50%    2014.0    12209.385755\n",
       "75%    2014.0    26803.610474\n",
       "max    2014.0   156514.133850"
      ]
     },
     "execution_count": 10,
     "metadata": {},
     "output_type": "execute_result"
    }
   ],
   "source": [
    "gdp_2014.describe()"
   ]
  },
  {
   "cell_type": "code",
   "execution_count": 11,
   "id": "6067935a",
   "metadata": {},
   "outputs": [
    {
     "data": {
      "image/png": "[encoded data removed]",
      "text/plain": [
       "<Figure size 432x288 with 1 Axes>"
      ]
     },
     "metadata": {
      "needs_background": "light"
     },
     "output_type": "display_data"
    }
   ],
   "source": [
    "plt.hist(gdp_2014[\"GDP_per_Capita\"], bins = 10)\n",
    "plt.title(\"GDP_Per_Capita 2014\")\n",
    "plt.xlabel(\"GDP\")\n",
    "plt.ylabel(\"# of Countries\")\n",
    "plt.show;"
   ]
  },
  {
   "cell_type": "markdown",
   "id": "2345a604",
   "metadata": {},
   "source": [
    "## 12. Histogram description: Right skewed unimodal. "
   ]
  },
  {
   "cell_type": "code",
   "execution_count": 12,
   "id": "83565c75",
   "metadata": {},
   "outputs": [
    {
     "name": "stdout",
     "output_type": "stream",
     "text": [
      "                       Country  Year  GDP_per_Capita\n",
      "1047  Central African Republic  2014      822.610458\n",
      "827                    Burundi  2014      886.235777\n",
      "3781                    Malawi  2014     1027.208496\n",
      "1422           Dem. Rep. Congo  2014     1029.790785\n",
      "4528                     Niger  2014     1127.615541\n",
      "...                        ...   ...             ...\n",
      "561                    Bermuda  2014    77361.104881\n",
      "5464                 Singapore  2014    87808.663157\n",
      "5138                     Qatar  2014    95578.416973\n",
      "3691                Luxembourg  2014   108760.916030\n",
      "3721          Macao SAR, China  2014   156514.133850\n",
      "\n",
      "[238 rows x 3 columns]\n"
     ]
    }
   ],
   "source": [
    "countries_of_gdp_2014_srt = (gdp_2014\n",
    "                             .drop_duplicates(subset=\"Country\")\n",
    "                             .sort_values(\"GDP_per_Capita\"))\n",
    "print(countries_of_gdp_2014_srt)"
   ]
  },
  {
   "cell_type": "markdown",
   "id": "e9be50fd",
   "metadata": {},
   "source": [
    "## 13. \n",
    "\n",
    "Top 5: Macao, Luxumbourg, Qatar, Singapore, Bermuda\n",
    "\n",
    "Bottom 5: Central African Republic, Burundi, Malawi, Dem Rep Congo, Niger."
   ]
  },
  {
   "cell_type": "code",
   "execution_count": 13,
   "id": "c02e26f2",
   "metadata": {
    "scrolled": true
   },
   "outputs": [],
   "source": [
    "gdp_pivoted = pd.pivot_table(gdp_df, \n",
    "                             values = \"GDP_per_Capita\" , \n",
    "                             columns = \"Year\", \n",
    "                             index = \"Country\")"
   ]
  },
  {
   "cell_type": "code",
   "execution_count": 14,
   "id": "dd76d822",
   "metadata": {},
   "outputs": [],
   "source": [
    "gdp_pivoted = gdp_pivoted[[1990,2017]]"
   ]
  },
  {
   "cell_type": "code",
   "execution_count": 15,
   "id": "090e0f6b",
   "metadata": {},
   "outputs": [],
   "source": [
    "gdp_pivoted = gdp_pivoted.dropna()"
   ]
  },
  {
   "cell_type": "code",
   "execution_count": 16,
   "id": "63065951",
   "metadata": {},
   "outputs": [],
   "source": [
    "gdp_pivoted[\"Percent_Change\"] = 100*(gdp_pivoted[2017]-gdp_pivoted[1990])/gdp_pivoted[2017]"
   ]
  },
  {
   "cell_type": "code",
   "execution_count": 17,
   "id": "540f0cb0",
   "metadata": {
    "scrolled": false
   },
   "outputs": [
    {
     "data": {
      "text/plain": [
       "17"
      ]
     },
     "execution_count": 17,
     "metadata": {},
     "output_type": "execute_result"
    }
   ],
   "source": [
    "gdp_pivoted_srt = gdp_pivoted.sort_values(\"Percent_Change\")\n",
    "gdp_pivoted_srt[gdp_pivoted_srt[\"Percent_Change\"] < 0].value_counts().sum()"
   ]
  },
  {
   "cell_type": "markdown",
   "id": "e8f52298",
   "metadata": {},
   "source": [
    "## 16. 17 countries experience a negative GDP perc change"
   ]
  },
  {
   "cell_type": "code",
   "execution_count": 18,
   "id": "3b39ba9f",
   "metadata": {},
   "outputs": [
    {
     "data": {
      "text/html": [
       "<div>\n",
       "<style scoped>\n",
       "    .dataframe tbody tr th:only-of-type {\n",
       "        vertical-align: middle;\n",
       "    }\n",
       "\n",
       "    .dataframe tbody tr th {\n",
       "        vertical-align: top;\n",
       "    }\n",
       "\n",
       "    .dataframe thead th {\n",
       "        text-align: right;\n",
       "    }\n",
       "</style>\n",
       "<table border=\"1\" class=\"dataframe\">\n",
       "  <thead>\n",
       "    <tr style=\"text-align: right;\">\n",
       "      <th>Year</th>\n",
       "      <th>1990</th>\n",
       "      <th>2017</th>\n",
       "      <th>Percent_Change</th>\n",
       "    </tr>\n",
       "    <tr>\n",
       "      <th>Country</th>\n",
       "      <th></th>\n",
       "      <th></th>\n",
       "      <th></th>\n",
       "    </tr>\n",
       "  </thead>\n",
       "  <tbody>\n",
       "    <tr>\n",
       "      <th>Equatorial Guinea</th>\n",
       "      <td>1039.985049</td>\n",
       "      <td>22551.083246</td>\n",
       "      <td>95.388314</td>\n",
       "    </tr>\n",
       "    <tr>\n",
       "      <th>China</th>\n",
       "      <td>1423.896348</td>\n",
       "      <td>14344.421239</td>\n",
       "      <td>90.073518</td>\n",
       "    </tr>\n",
       "    <tr>\n",
       "      <th>Myanmar</th>\n",
       "      <td>619.645144</td>\n",
       "      <td>4739.910118</td>\n",
       "      <td>86.927070</td>\n",
       "    </tr>\n",
       "    <tr>\n",
       "      <th>East Asia &amp; Pacific (excluding high income)</th>\n",
       "      <td>2173.223895</td>\n",
       "      <td>12986.322227</td>\n",
       "      <td>83.265286</td>\n",
       "    </tr>\n",
       "    <tr>\n",
       "      <th>East Asia &amp; Pacific (IDA &amp; IBRD)</th>\n",
       "      <td>2196.950288</td>\n",
       "      <td>13123.151792</td>\n",
       "      <td>83.258974</td>\n",
       "    </tr>\n",
       "    <tr>\n",
       "      <th>...</th>\n",
       "      <td>...</td>\n",
       "      <td>...</td>\n",
       "      <td>...</td>\n",
       "    </tr>\n",
       "    <tr>\n",
       "      <th>Central African Republic</th>\n",
       "      <td>1201.677234</td>\n",
       "      <td>912.802052</td>\n",
       "      <td>-31.647078</td>\n",
       "    </tr>\n",
       "    <tr>\n",
       "      <th>Ukraine</th>\n",
       "      <td>15751.722440</td>\n",
       "      <td>11871.123624</td>\n",
       "      <td>-32.689398</td>\n",
       "    </tr>\n",
       "    <tr>\n",
       "      <th>Burundi</th>\n",
       "      <td>1184.842440</td>\n",
       "      <td>773.571858</td>\n",
       "      <td>-53.165143</td>\n",
       "    </tr>\n",
       "    <tr>\n",
       "      <th>United Arab Emirates</th>\n",
       "      <td>111454.360446</td>\n",
       "      <td>67183.626557</td>\n",
       "      <td>-65.895124</td>\n",
       "    </tr>\n",
       "    <tr>\n",
       "      <th>Dem. Rep. Congo</th>\n",
       "      <td>1819.723315</td>\n",
       "      <td>1059.810775</td>\n",
       "      <td>-71.702662</td>\n",
       "    </tr>\n",
       "  </tbody>\n",
       "</table>\n",
       "<p>207 rows × 3 columns</p>\n",
       "</div>"
      ],
      "text/plain": [
       "Year                                                  1990          2017  \\\n",
       "Country                                                                    \n",
       "Equatorial Guinea                              1039.985049  22551.083246   \n",
       "China                                          1423.896348  14344.421239   \n",
       "Myanmar                                         619.645144   4739.910118   \n",
       "East Asia & Pacific (excluding high income)    2173.223895  12986.322227   \n",
       "East Asia & Pacific (IDA & IBRD)               2196.950288  13123.151792   \n",
       "...                                                    ...           ...   \n",
       "Central African Republic                       1201.677234    912.802052   \n",
       "Ukraine                                       15751.722440  11871.123624   \n",
       "Burundi                                        1184.842440    773.571858   \n",
       "United Arab Emirates                         111454.360446  67183.626557   \n",
       "Dem. Rep. Congo                                1819.723315   1059.810775   \n",
       "\n",
       "Year                                         Percent_Change  \n",
       "Country                                                      \n",
       "Equatorial Guinea                                 95.388314  \n",
       "China                                             90.073518  \n",
       "Myanmar                                           86.927070  \n",
       "East Asia & Pacific (excluding high income)       83.265286  \n",
       "East Asia & Pacific (IDA & IBRD)                  83.258974  \n",
       "...                                                     ...  \n",
       "Central African Republic                         -31.647078  \n",
       "Ukraine                                          -32.689398  \n",
       "Burundi                                          -53.165143  \n",
       "United Arab Emirates                             -65.895124  \n",
       "Dem. Rep. Congo                                  -71.702662  \n",
       "\n",
       "[207 rows x 3 columns]"
      ]
     },
     "execution_count": 18,
     "metadata": {},
     "output_type": "execute_result"
    }
   ],
   "source": [
    "gdp_pivoted.sort_values(\"Percent_Change\", ascending = False)"
   ]
  },
  {
   "cell_type": "markdown",
   "id": "b7075543",
   "metadata": {},
   "source": [
    "## 17. Equatorial Guinea had the highest perc change in GDP. China had the second highest"
   ]
  },
  {
   "cell_type": "code",
   "execution_count": 19,
   "id": "a4639d59",
   "metadata": {},
   "outputs": [],
   "source": [
    "gdp_guinea = gdp_df[gdp_df[\"Country\"].isin(['Equatorial Guinea'])]\n",
    "gdp_china = gdp_df[gdp_df[\"Country\"].isin(['China'])]"
   ]
  },
  {
   "cell_type": "code",
   "execution_count": 20,
   "id": "c3de223e",
   "metadata": {},
   "outputs": [
    {
     "data": {
      "image/png": "[encoded data removed]",
      "text/plain": [
       "<Figure size 432x288 with 1 Axes>"
      ]
     },
     "metadata": {
      "needs_background": "light"
     },
     "output_type": "display_data"
    }
   ],
   "source": [
    "plt.plot(gdp_china[\"Year\"], \n",
    "         gdp_china[\"GDP_per_Capita\"])\n",
    "plt.plot(gdp_guinea[\"Year\"],\n",
    "        gdp_guinea[\"GDP_per_Capita\"]);\n",
    "plt.xlabel(\"Year\")\n",
    "plt.ylabel(\"GDP_per_Capita\")\n",
    "plt.title(\"Change in GDP from 1990-2017\")\n",
    "plt.legend([\"GDP_China\", \"GDP_Guinea\"]);"
   ]
  },
  {
   "cell_type": "markdown",
   "id": "307e88d3",
   "metadata": {},
   "source": [
    "## 17.b the GDP_per_Capita of China has a steady increase from 1990 to 2019, while Guinea had a drastic increase around 1996 but the started declining around 2007 and is now approximately equal to the GDP_per_Capita of China. "
   ]
  },
  {
   "cell_type": "code",
   "execution_count": 21,
   "id": "e9b3118e",
   "metadata": {},
   "outputs": [],
   "source": [
    "continents = pd.read_csv('../data/continents.csv')"
   ]
  },
  {
   "cell_type": "code",
   "execution_count": 22,
   "id": "489a1e28",
   "metadata": {},
   "outputs": [
    {
     "data": {
      "text/html": [
       "<div>\n",
       "<style scoped>\n",
       "    .dataframe tbody tr th:only-of-type {\n",
       "        vertical-align: middle;\n",
       "    }\n",
       "\n",
       "    .dataframe tbody tr th {\n",
       "        vertical-align: top;\n",
       "    }\n",
       "\n",
       "    .dataframe thead th {\n",
       "        text-align: right;\n",
       "    }\n",
       "</style>\n",
       "<table border=\"1\" class=\"dataframe\">\n",
       "  <thead>\n",
       "    <tr style=\"text-align: right;\">\n",
       "      <th></th>\n",
       "      <th>Continent</th>\n",
       "      <th>Country</th>\n",
       "      <th>Year</th>\n",
       "      <th>GDP_per_Capita</th>\n",
       "    </tr>\n",
       "  </thead>\n",
       "  <tbody>\n",
       "    <tr>\n",
       "      <th>0</th>\n",
       "      <td>Asia</td>\n",
       "      <td>Afghanistan</td>\n",
       "      <td>2019</td>\n",
       "      <td>2065.036398</td>\n",
       "    </tr>\n",
       "    <tr>\n",
       "      <th>1</th>\n",
       "      <td>Asia</td>\n",
       "      <td>Afghanistan</td>\n",
       "      <td>2018</td>\n",
       "      <td>2033.779002</td>\n",
       "    </tr>\n",
       "    <tr>\n",
       "      <th>2</th>\n",
       "      <td>Asia</td>\n",
       "      <td>Afghanistan</td>\n",
       "      <td>2017</td>\n",
       "      <td>2058.383832</td>\n",
       "    </tr>\n",
       "    <tr>\n",
       "      <th>3</th>\n",
       "      <td>Asia</td>\n",
       "      <td>Afghanistan</td>\n",
       "      <td>2016</td>\n",
       "      <td>2057.062164</td>\n",
       "    </tr>\n",
       "    <tr>\n",
       "      <th>4</th>\n",
       "      <td>Asia</td>\n",
       "      <td>Afghanistan</td>\n",
       "      <td>2015</td>\n",
       "      <td>2068.265904</td>\n",
       "    </tr>\n",
       "  </tbody>\n",
       "</table>\n",
       "</div>"
      ],
      "text/plain": [
       "  Continent      Country  Year  GDP_per_Capita\n",
       "0      Asia  Afghanistan  2019     2065.036398\n",
       "1      Asia  Afghanistan  2018     2033.779002\n",
       "2      Asia  Afghanistan  2017     2058.383832\n",
       "3      Asia  Afghanistan  2016     2057.062164\n",
       "4      Asia  Afghanistan  2015     2068.265904"
      ]
     },
     "execution_count": 22,
     "metadata": {},
     "output_type": "execute_result"
    }
   ],
   "source": [
    "gdp_df = pd.merge(left = continents,\n",
    "                 right = gdp_df,\n",
    "                 on = 'Country');\n",
    "gdp_df.head()"
   ]
  },
  {
   "cell_type": "code",
   "execution_count": 23,
   "id": "9634c258",
   "metadata": {},
   "outputs": [
    {
     "name": "stdout",
     "output_type": "stream",
     "text": [
      "<class 'pandas.core.frame.DataFrame'>\n",
      "Int64Index: 5443 entries, 0 to 5442\n",
      "Data columns (total 4 columns):\n",
      " #   Column          Non-Null Count  Dtype  \n",
      "---  ------          --------------  -----  \n",
      " 0   Continent       5443 non-null   object \n",
      " 1   Country         5443 non-null   object \n",
      " 2   Year            5443 non-null   int64  \n",
      " 3   GDP_per_Capita  5443 non-null   float64\n",
      "dtypes: float64(1), int64(1), object(2)\n",
      "memory usage: 212.6+ KB\n"
     ]
    }
   ],
   "source": [
    "gdp_df.info()"
   ]
  },
  {
   "cell_type": "code",
   "execution_count": 24,
   "id": "e05b0e37",
   "metadata": {},
   "outputs": [
    {
     "data": {
      "image/png": "[encoded data removed]",
      "text/plain": [
       "<Figure size 432x288 with 1 Axes>"
      ]
     },
     "metadata": {
      "needs_background": "light"
     },
     "output_type": "display_data"
    }
   ],
   "source": [
    "gdp_df.groupby(\"Continent\")[\"Country\"].nunique().plot(kind = 'bar')#nunique resolved the issue of their being multiple instances of each country on this graph\n",
    "plt.title(\"# of Countries per Continent\")\n",
    "plt.ylabel(\"# of Countries\");"
   ]
  },
  {
   "cell_type": "code",
   "execution_count": 25,
   "id": "c40c884b",
   "metadata": {},
   "outputs": [
    {
     "data": {
      "image/png": "[encoded data removed]",
      "text/plain": [
       "<Figure size 720x360 with 1 Axes>"
      ]
     },
     "metadata": {
      "needs_background": "light"
     },
     "output_type": "display_data"
    }
   ],
   "source": [
    "plt.figure(figsize = (10,5))\n",
    "sns.boxplot(data = gdp_df.loc[gdp_df['Year'] == 2014], #loc for pulling out just the year 2014\n",
    "            x = 'Continent',\n",
    "            y = 'GDP_per_Capita')\n",
    "plt.title(\"Distribution of GDP by Continent\");"
   ]
  },
  {
   "cell_type": "markdown",
   "id": "4476c687",
   "metadata": {},
   "source": [
    "## 21. Africa has the largest number of countries, but the smallest GDP_per_Capita by the median. Europe has the highest median GDP_per_Capita. The range of GDP_per_Capita in Asia is the largest."
   ]
  },
  {
   "cell_type": "code",
   "execution_count": 26,
   "id": "670668c1",
   "metadata": {},
   "outputs": [],
   "source": [
    "internet_df = pd.read_csv('../data/internet_use.csv', nrows = 4500)"
   ]
  },
  {
   "cell_type": "code",
   "execution_count": 27,
   "id": "2c005db3",
   "metadata": {},
   "outputs": [
    {
     "data": {
      "text/html": [
       "<div>\n",
       "<style scoped>\n",
       "    .dataframe tbody tr th:only-of-type {\n",
       "        vertical-align: middle;\n",
       "    }\n",
       "\n",
       "    .dataframe tbody tr th {\n",
       "        vertical-align: top;\n",
       "    }\n",
       "\n",
       "    .dataframe thead th {\n",
       "        text-align: right;\n",
       "    }\n",
       "</style>\n",
       "<table border=\"1\" class=\"dataframe\">\n",
       "  <thead>\n",
       "    <tr style=\"text-align: right;\">\n",
       "      <th></th>\n",
       "      <th>Country or Area</th>\n",
       "      <th>Year</th>\n",
       "      <th>Value</th>\n",
       "      <th>Value Footnotes</th>\n",
       "    </tr>\n",
       "  </thead>\n",
       "  <tbody>\n",
       "    <tr>\n",
       "      <th>0</th>\n",
       "      <td>Afghanistan</td>\n",
       "      <td>2014</td>\n",
       "      <td>6.390000</td>\n",
       "      <td>NaN</td>\n",
       "    </tr>\n",
       "    <tr>\n",
       "      <th>1</th>\n",
       "      <td>Afghanistan</td>\n",
       "      <td>2013</td>\n",
       "      <td>5.900000</td>\n",
       "      <td>NaN</td>\n",
       "    </tr>\n",
       "    <tr>\n",
       "      <th>2</th>\n",
       "      <td>Afghanistan</td>\n",
       "      <td>2012</td>\n",
       "      <td>5.454545</td>\n",
       "      <td>NaN</td>\n",
       "    </tr>\n",
       "    <tr>\n",
       "      <th>3</th>\n",
       "      <td>Afghanistan</td>\n",
       "      <td>2011</td>\n",
       "      <td>5.000000</td>\n",
       "      <td>NaN</td>\n",
       "    </tr>\n",
       "    <tr>\n",
       "      <th>4</th>\n",
       "      <td>Afghanistan</td>\n",
       "      <td>2010</td>\n",
       "      <td>4.000000</td>\n",
       "      <td>NaN</td>\n",
       "    </tr>\n",
       "    <tr>\n",
       "      <th>...</th>\n",
       "      <td>...</td>\n",
       "      <td>...</td>\n",
       "      <td>...</td>\n",
       "      <td>...</td>\n",
       "    </tr>\n",
       "    <tr>\n",
       "      <th>4490</th>\n",
       "      <td>Zimbabwe</td>\n",
       "      <td>1997</td>\n",
       "      <td>0.033080</td>\n",
       "      <td>NaN</td>\n",
       "    </tr>\n",
       "    <tr>\n",
       "      <th>4491</th>\n",
       "      <td>Zimbabwe</td>\n",
       "      <td>1996</td>\n",
       "      <td>0.016790</td>\n",
       "      <td>NaN</td>\n",
       "    </tr>\n",
       "    <tr>\n",
       "      <th>4492</th>\n",
       "      <td>Zimbabwe</td>\n",
       "      <td>1995</td>\n",
       "      <td>0.007684</td>\n",
       "      <td>NaN</td>\n",
       "    </tr>\n",
       "    <tr>\n",
       "      <th>4493</th>\n",
       "      <td>Zimbabwe</td>\n",
       "      <td>1994</td>\n",
       "      <td>0.001739</td>\n",
       "      <td>NaN</td>\n",
       "    </tr>\n",
       "    <tr>\n",
       "      <th>4494</th>\n",
       "      <td>Zimbabwe</td>\n",
       "      <td>1990</td>\n",
       "      <td>0.000000</td>\n",
       "      <td>NaN</td>\n",
       "    </tr>\n",
       "  </tbody>\n",
       "</table>\n",
       "<p>4495 rows × 4 columns</p>\n",
       "</div>"
      ],
      "text/plain": [
       "     Country or Area  Year     Value  Value Footnotes\n",
       "0        Afghanistan  2014  6.390000              NaN\n",
       "1        Afghanistan  2013  5.900000              NaN\n",
       "2        Afghanistan  2012  5.454545              NaN\n",
       "3        Afghanistan  2011  5.000000              NaN\n",
       "4        Afghanistan  2010  4.000000              NaN\n",
       "...              ...   ...       ...              ...\n",
       "4490        Zimbabwe  1997  0.033080              NaN\n",
       "4491        Zimbabwe  1996  0.016790              NaN\n",
       "4492        Zimbabwe  1995  0.007684              NaN\n",
       "4493        Zimbabwe  1994  0.001739              NaN\n",
       "4494        Zimbabwe  1990  0.000000              NaN\n",
       "\n",
       "[4495 rows x 4 columns]"
      ]
     },
     "execution_count": 27,
     "metadata": {},
     "output_type": "execute_result"
    }
   ],
   "source": [
    "internet_df.head(-5)"
   ]
  },
  {
   "cell_type": "code",
   "execution_count": 28,
   "id": "dfad9f86",
   "metadata": {},
   "outputs": [],
   "source": [
    "internet_df = (internet_df\n",
    "               .drop(columns = 'Value Footnotes')\n",
    "               .rename(columns={\"Country or Area\": \"Country\", \"Value\": \"Internet_Users_Pct\"})\n",
    "              .dropna())"
   ]
  },
  {
   "cell_type": "code",
   "execution_count": 29,
   "id": "2252dbb2",
   "metadata": {},
   "outputs": [
    {
     "name": "stdout",
     "output_type": "stream",
     "text": [
      "<class 'pandas.core.frame.DataFrame'>\n",
      "Int64Index: 4495 entries, 0 to 4494\n",
      "Data columns (total 3 columns):\n",
      " #   Column              Non-Null Count  Dtype  \n",
      "---  ------              --------------  -----  \n",
      " 0   Country             4495 non-null   object \n",
      " 1   Year                4495 non-null   object \n",
      " 2   Internet_Users_Pct  4495 non-null   float64\n",
      "dtypes: float64(1), object(2)\n",
      "memory usage: 140.5+ KB\n"
     ]
    }
   ],
   "source": [
    "internet_df.info()"
   ]
  },
  {
   "cell_type": "code",
   "execution_count": 30,
   "id": "dae9d588",
   "metadata": {},
   "outputs": [],
   "source": [
    "internet_df[\"Year\"] = pd.to_numeric(internet_df[\"Year\"]) # Year was an object which was making my graphs have the years in descending order"
   ]
  },
  {
   "cell_type": "code",
   "execution_count": 31,
   "id": "09c84539",
   "metadata": {},
   "outputs": [
    {
     "data": {
      "text/html": [
       "<div>\n",
       "<style scoped>\n",
       "    .dataframe tbody tr th:only-of-type {\n",
       "        vertical-align: middle;\n",
       "    }\n",
       "\n",
       "    .dataframe tbody tr th {\n",
       "        vertical-align: top;\n",
       "    }\n",
       "\n",
       "    .dataframe thead th {\n",
       "        text-align: right;\n",
       "    }\n",
       "</style>\n",
       "<table border=\"1\" class=\"dataframe\">\n",
       "  <thead>\n",
       "    <tr style=\"text-align: right;\">\n",
       "      <th></th>\n",
       "      <th>Country</th>\n",
       "      <th>Year</th>\n",
       "      <th>Internet_Users_Pct</th>\n",
       "    </tr>\n",
       "  </thead>\n",
       "  <tbody>\n",
       "    <tr>\n",
       "      <th>2048</th>\n",
       "      <td>Italy</td>\n",
       "      <td>1990</td>\n",
       "      <td>0.017545</td>\n",
       "    </tr>\n",
       "    <tr>\n",
       "      <th>1107</th>\n",
       "      <td>Denmark</td>\n",
       "      <td>1990</td>\n",
       "      <td>0.097277</td>\n",
       "    </tr>\n",
       "    <tr>\n",
       "      <th>375</th>\n",
       "      <td>Belgium</td>\n",
       "      <td>1990</td>\n",
       "      <td>0.001007</td>\n",
       "    </tr>\n",
       "    <tr>\n",
       "      <th>1388</th>\n",
       "      <td>Finland</td>\n",
       "      <td>1990</td>\n",
       "      <td>0.401088</td>\n",
       "    </tr>\n",
       "    <tr>\n",
       "      <th>4301</th>\n",
       "      <td>United States</td>\n",
       "      <td>1990</td>\n",
       "      <td>0.784729</td>\n",
       "    </tr>\n",
       "    <tr>\n",
       "      <th>...</th>\n",
       "      <td>...</td>\n",
       "      <td>...</td>\n",
       "      <td>...</td>\n",
       "    </tr>\n",
       "    <tr>\n",
       "      <th>2175</th>\n",
       "      <td>Kiribati</td>\n",
       "      <td>2014</td>\n",
       "      <td>12.250000</td>\n",
       "    </tr>\n",
       "    <tr>\n",
       "      <th>848</th>\n",
       "      <td>Colombia</td>\n",
       "      <td>2014</td>\n",
       "      <td>52.570000</td>\n",
       "    </tr>\n",
       "    <tr>\n",
       "      <th>1299</th>\n",
       "      <td>Ethiopia</td>\n",
       "      <td>2014</td>\n",
       "      <td>2.900000</td>\n",
       "    </tr>\n",
       "    <tr>\n",
       "      <th>623</th>\n",
       "      <td>Burundi</td>\n",
       "      <td>2014</td>\n",
       "      <td>1.380000</td>\n",
       "    </tr>\n",
       "    <tr>\n",
       "      <th>0</th>\n",
       "      <td>Afghanistan</td>\n",
       "      <td>2014</td>\n",
       "      <td>6.390000</td>\n",
       "    </tr>\n",
       "  </tbody>\n",
       "</table>\n",
       "<p>4106 rows × 3 columns</p>\n",
       "</div>"
      ],
      "text/plain": [
       "            Country  Year  Internet_Users_Pct\n",
       "2048          Italy  1990            0.017545\n",
       "1107        Denmark  1990            0.097277\n",
       "375         Belgium  1990            0.001007\n",
       "1388        Finland  1990            0.401088\n",
       "4301  United States  1990            0.784729\n",
       "...             ...   ...                 ...\n",
       "2175       Kiribati  2014           12.250000\n",
       "848        Colombia  2014           52.570000\n",
       "1299       Ethiopia  2014            2.900000\n",
       "623         Burundi  2014            1.380000\n",
       "0       Afghanistan  2014            6.390000\n",
       "\n",
       "[4106 rows x 3 columns]"
      ]
     },
     "execution_count": 31,
     "metadata": {},
     "output_type": "execute_result"
    }
   ],
   "source": [
    "internet_df[internet_df[\"Internet_Users_Pct\"] > 0].sort_values(\"Year\") "
   ]
  },
  {
   "cell_type": "code",
   "execution_count": 32,
   "id": "f92bf2d7",
   "metadata": {},
   "outputs": [],
   "source": [
    "internet_df_mean = internet_df.groupby('Year')['Internet_Users_Pct'].mean() \n",
    "#Thank you Chris Mulvey for the groupby and .mean. helped clean up the graph a lot."
   ]
  },
  {
   "cell_type": "code",
   "execution_count": 33,
   "id": "78131c9e",
   "metadata": {
    "scrolled": true
   },
   "outputs": [
    {
     "data": {
      "image/png": "[encoded data removed]",
      "text/plain": [
       "<Figure size 432x288 with 1 Axes>"
      ]
     },
     "metadata": {
      "needs_background": "light"
     },
     "output_type": "display_data"
    }
   ],
   "source": [
    "internet_df_mean.plot(kind = 'line',\n",
    "                      x='Year',\n",
    "                      y='Internet_Users_Pct')\n",
    "plt.ylabel(\"Internet_Users_Pct\")\n",
    "plt.title(\"Change in Internet Users Pct over Time\");"
   ]
  },
  {
   "cell_type": "markdown",
   "id": "1a1272d7",
   "metadata": {},
   "source": [
    "## 25. 1990 is the first year with a non-zero internet_users_pct"
   ]
  },
  {
   "cell_type": "code",
   "execution_count": 34,
   "id": "550de56d",
   "metadata": {},
   "outputs": [
    {
     "data": {
      "text/html": [
       "<div>\n",
       "<style scoped>\n",
       "    .dataframe tbody tr th:only-of-type {\n",
       "        vertical-align: middle;\n",
       "    }\n",
       "\n",
       "    .dataframe tbody tr th {\n",
       "        vertical-align: top;\n",
       "    }\n",
       "\n",
       "    .dataframe thead th {\n",
       "        text-align: right;\n",
       "    }\n",
       "</style>\n",
       "<table border=\"1\" class=\"dataframe\">\n",
       "  <thead>\n",
       "    <tr style=\"text-align: right;\">\n",
       "      <th></th>\n",
       "      <th>Country</th>\n",
       "      <th>Year</th>\n",
       "      <th>Internet_Users_Pct</th>\n",
       "      <th>Continent</th>\n",
       "      <th>GDP_per_Capita</th>\n",
       "    </tr>\n",
       "  </thead>\n",
       "  <tbody>\n",
       "    <tr>\n",
       "      <th>0</th>\n",
       "      <td>Afghanistan</td>\n",
       "      <td>2014</td>\n",
       "      <td>6.390000</td>\n",
       "      <td>Asia</td>\n",
       "      <td>2102.385234</td>\n",
       "    </tr>\n",
       "    <tr>\n",
       "      <th>1</th>\n",
       "      <td>Afghanistan</td>\n",
       "      <td>2013</td>\n",
       "      <td>5.900000</td>\n",
       "      <td>Asia</td>\n",
       "      <td>2116.465454</td>\n",
       "    </tr>\n",
       "    <tr>\n",
       "      <th>2</th>\n",
       "      <td>Afghanistan</td>\n",
       "      <td>2012</td>\n",
       "      <td>5.454545</td>\n",
       "      <td>Asia</td>\n",
       "      <td>2075.491747</td>\n",
       "    </tr>\n",
       "    <tr>\n",
       "      <th>3</th>\n",
       "      <td>Afghanistan</td>\n",
       "      <td>2011</td>\n",
       "      <td>5.000000</td>\n",
       "      <td>Asia</td>\n",
       "      <td>1904.559799</td>\n",
       "    </tr>\n",
       "    <tr>\n",
       "      <th>4</th>\n",
       "      <td>Afghanistan</td>\n",
       "      <td>2010</td>\n",
       "      <td>4.000000</td>\n",
       "      <td>Asia</td>\n",
       "      <td>1957.029338</td>\n",
       "    </tr>\n",
       "  </tbody>\n",
       "</table>\n",
       "</div>"
      ],
      "text/plain": [
       "       Country  Year  Internet_Users_Pct Continent  GDP_per_Capita\n",
       "0  Afghanistan  2014            6.390000      Asia     2102.385234\n",
       "1  Afghanistan  2013            5.900000      Asia     2116.465454\n",
       "2  Afghanistan  2012            5.454545      Asia     2075.491747\n",
       "3  Afghanistan  2011            5.000000      Asia     1904.559799\n",
       "4  Afghanistan  2010            4.000000      Asia     1957.029338"
      ]
     },
     "execution_count": 34,
     "metadata": {},
     "output_type": "execute_result"
    }
   ],
   "source": [
    "gdp_and_internet_use = pd.merge(left = internet_df,\n",
    "                 right = gdp_df,\n",
    "                 on = ('Country','Year'));\n",
    "gdp_and_internet_use.head(5)"
   ]
  },
  {
   "cell_type": "code",
   "execution_count": 35,
   "id": "ee5d2f7b",
   "metadata": {},
   "outputs": [
    {
     "data": {
      "text/html": [
       "<div>\n",
       "<style scoped>\n",
       "    .dataframe tbody tr th:only-of-type {\n",
       "        vertical-align: middle;\n",
       "    }\n",
       "\n",
       "    .dataframe tbody tr th {\n",
       "        vertical-align: top;\n",
       "    }\n",
       "\n",
       "    .dataframe thead th {\n",
       "        text-align: right;\n",
       "    }\n",
       "</style>\n",
       "<table border=\"1\" class=\"dataframe\">\n",
       "  <thead>\n",
       "    <tr style=\"text-align: right;\">\n",
       "      <th></th>\n",
       "      <th>Country</th>\n",
       "      <th>Year</th>\n",
       "      <th>Internet_Users_Pct</th>\n",
       "      <th>Continent</th>\n",
       "      <th>GDP_per_Capita</th>\n",
       "    </tr>\n",
       "  </thead>\n",
       "  <tbody>\n",
       "    <tr>\n",
       "      <th>0</th>\n",
       "      <td>Afghanistan</td>\n",
       "      <td>2014</td>\n",
       "      <td>6.390000</td>\n",
       "      <td>Asia</td>\n",
       "      <td>2102.385234</td>\n",
       "    </tr>\n",
       "    <tr>\n",
       "      <th>1</th>\n",
       "      <td>Afghanistan</td>\n",
       "      <td>2013</td>\n",
       "      <td>5.900000</td>\n",
       "      <td>Asia</td>\n",
       "      <td>2116.465454</td>\n",
       "    </tr>\n",
       "    <tr>\n",
       "      <th>2</th>\n",
       "      <td>Afghanistan</td>\n",
       "      <td>2012</td>\n",
       "      <td>5.454545</td>\n",
       "      <td>Asia</td>\n",
       "      <td>2075.491747</td>\n",
       "    </tr>\n",
       "    <tr>\n",
       "      <th>3</th>\n",
       "      <td>Afghanistan</td>\n",
       "      <td>2011</td>\n",
       "      <td>5.000000</td>\n",
       "      <td>Asia</td>\n",
       "      <td>1904.559799</td>\n",
       "    </tr>\n",
       "    <tr>\n",
       "      <th>4</th>\n",
       "      <td>Afghanistan</td>\n",
       "      <td>2010</td>\n",
       "      <td>4.000000</td>\n",
       "      <td>Asia</td>\n",
       "      <td>1957.029338</td>\n",
       "    </tr>\n",
       "    <tr>\n",
       "      <th>...</th>\n",
       "      <td>...</td>\n",
       "      <td>...</td>\n",
       "      <td>...</td>\n",
       "      <td>...</td>\n",
       "      <td>...</td>\n",
       "    </tr>\n",
       "    <tr>\n",
       "      <th>3448</th>\n",
       "      <td>Zimbabwe</td>\n",
       "      <td>2002</td>\n",
       "      <td>3.994356</td>\n",
       "      <td>Africa</td>\n",
       "      <td>3190.506481</td>\n",
       "    </tr>\n",
       "    <tr>\n",
       "      <th>3449</th>\n",
       "      <td>Zimbabwe</td>\n",
       "      <td>2001</td>\n",
       "      <td>0.799846</td>\n",
       "      <td>Africa</td>\n",
       "      <td>3510.893992</td>\n",
       "    </tr>\n",
       "    <tr>\n",
       "      <th>3450</th>\n",
       "      <td>Zimbabwe</td>\n",
       "      <td>2000</td>\n",
       "      <td>0.401434</td>\n",
       "      <td>Africa</td>\n",
       "      <td>3473.429801</td>\n",
       "    </tr>\n",
       "    <tr>\n",
       "      <th>3451</th>\n",
       "      <td>Zimbabwe</td>\n",
       "      <td>1999</td>\n",
       "      <td>0.161676</td>\n",
       "      <td>Africa</td>\n",
       "      <td>3600.849291</td>\n",
       "    </tr>\n",
       "    <tr>\n",
       "      <th>3452</th>\n",
       "      <td>Zimbabwe</td>\n",
       "      <td>1998</td>\n",
       "      <td>0.081648</td>\n",
       "      <td>Africa</td>\n",
       "      <td>3653.920016</td>\n",
       "    </tr>\n",
       "  </tbody>\n",
       "</table>\n",
       "<p>3453 rows × 5 columns</p>\n",
       "</div>"
      ],
      "text/plain": [
       "          Country  Year  Internet_Users_Pct Continent  GDP_per_Capita\n",
       "0     Afghanistan  2014            6.390000      Asia     2102.385234\n",
       "1     Afghanistan  2013            5.900000      Asia     2116.465454\n",
       "2     Afghanistan  2012            5.454545      Asia     2075.491747\n",
       "3     Afghanistan  2011            5.000000      Asia     1904.559799\n",
       "4     Afghanistan  2010            4.000000      Asia     1957.029338\n",
       "...           ...   ...                 ...       ...             ...\n",
       "3448     Zimbabwe  2002            3.994356    Africa     3190.506481\n",
       "3449     Zimbabwe  2001            0.799846    Africa     3510.893992\n",
       "3450     Zimbabwe  2000            0.401434    Africa     3473.429801\n",
       "3451     Zimbabwe  1999            0.161676    Africa     3600.849291\n",
       "3452     Zimbabwe  1998            0.081648    Africa     3653.920016\n",
       "\n",
       "[3453 rows x 5 columns]"
      ]
     },
     "execution_count": 35,
     "metadata": {},
     "output_type": "execute_result"
    }
   ],
   "source": [
    "gdp_and_internet_use.head(-5)"
   ]
  },
  {
   "cell_type": "code",
   "execution_count": 36,
   "id": "764888d4",
   "metadata": {},
   "outputs": [
    {
     "data": {
      "text/html": [
       "<div>\n",
       "<style scoped>\n",
       "    .dataframe tbody tr th:only-of-type {\n",
       "        vertical-align: middle;\n",
       "    }\n",
       "\n",
       "    .dataframe tbody tr th {\n",
       "        vertical-align: top;\n",
       "    }\n",
       "\n",
       "    .dataframe thead th {\n",
       "        text-align: right;\n",
       "    }\n",
       "</style>\n",
       "<table border=\"1\" class=\"dataframe\">\n",
       "  <thead>\n",
       "    <tr style=\"text-align: right;\">\n",
       "      <th></th>\n",
       "      <th>Country</th>\n",
       "      <th>Year</th>\n",
       "      <th>Internet_Users_Pct</th>\n",
       "      <th>Continent</th>\n",
       "      <th>GDP_per_Capita</th>\n",
       "    </tr>\n",
       "  </thead>\n",
       "  <tbody>\n",
       "    <tr>\n",
       "      <th>0</th>\n",
       "      <td>Afghanistan</td>\n",
       "      <td>2014</td>\n",
       "      <td>6.39</td>\n",
       "      <td>Asia</td>\n",
       "      <td>2102.385234</td>\n",
       "    </tr>\n",
       "    <tr>\n",
       "      <th>13</th>\n",
       "      <td>Albania</td>\n",
       "      <td>2014</td>\n",
       "      <td>60.10</td>\n",
       "      <td>Europe</td>\n",
       "      <td>11623.866679</td>\n",
       "    </tr>\n",
       "    <tr>\n",
       "      <th>34</th>\n",
       "      <td>Algeria</td>\n",
       "      <td>2014</td>\n",
       "      <td>18.09</td>\n",
       "      <td>Africa</td>\n",
       "      <td>11512.705405</td>\n",
       "    </tr>\n",
       "    <tr>\n",
       "      <th>56</th>\n",
       "      <td>Angola</td>\n",
       "      <td>2014</td>\n",
       "      <td>21.26</td>\n",
       "      <td>Africa</td>\n",
       "      <td>8239.828837</td>\n",
       "    </tr>\n",
       "    <tr>\n",
       "      <th>76</th>\n",
       "      <td>Antigua and Barbuda</td>\n",
       "      <td>2014</td>\n",
       "      <td>64.00</td>\n",
       "      <td>North America</td>\n",
       "      <td>18104.241470</td>\n",
       "    </tr>\n",
       "  </tbody>\n",
       "</table>\n",
       "</div>"
      ],
      "text/plain": [
       "                Country  Year  Internet_Users_Pct      Continent  \\\n",
       "0           Afghanistan  2014                6.39           Asia   \n",
       "13              Albania  2014               60.10         Europe   \n",
       "34              Algeria  2014               18.09         Africa   \n",
       "56               Angola  2014               21.26         Africa   \n",
       "76  Antigua and Barbuda  2014               64.00  North America   \n",
       "\n",
       "    GDP_per_Capita  \n",
       "0      2102.385234  \n",
       "13    11623.866679  \n",
       "34    11512.705405  \n",
       "56     8239.828837  \n",
       "76    18104.241470  "
      ]
     },
     "execution_count": 36,
     "metadata": {},
     "output_type": "execute_result"
    }
   ],
   "source": [
    "gdp_and_internet_use_2014 = gdp_and_internet_use.loc[gdp_and_internet_use['Year'] == 2014]\n",
    "gdp_and_internet_use_2014.head()"
   ]
  },
  {
   "cell_type": "code",
   "execution_count": 37,
   "id": "4db7aaa7",
   "metadata": {},
   "outputs": [
    {
     "data": {
      "text/plain": [
       "13"
      ]
     },
     "execution_count": 37,
     "metadata": {},
     "output_type": "execute_result"
    }
   ],
   "source": [
    "gdp_and_internet_use_2014[gdp_and_internet_use_2014[\"Internet_Users_Pct\"] > 90].value_counts().sum()"
   ]
  },
  {
   "cell_type": "markdown",
   "id": "ee20062a",
   "metadata": {},
   "source": [
    "## 28. 13 countries have an internet users pct over 90%"
   ]
  },
  {
   "cell_type": "code",
   "execution_count": 38,
   "id": "3c786956",
   "metadata": {},
   "outputs": [
    {
     "data": {
      "text/html": [
       "<div>\n",
       "<style scoped>\n",
       "    .dataframe tbody tr th:only-of-type {\n",
       "        vertical-align: middle;\n",
       "    }\n",
       "\n",
       "    .dataframe tbody tr th {\n",
       "        vertical-align: top;\n",
       "    }\n",
       "\n",
       "    .dataframe thead th {\n",
       "        text-align: right;\n",
       "    }\n",
       "</style>\n",
       "<table border=\"1\" class=\"dataframe\">\n",
       "  <thead>\n",
       "    <tr style=\"text-align: right;\">\n",
       "      <th></th>\n",
       "      <th>Country</th>\n",
       "      <th>Year</th>\n",
       "      <th>Internet_Users_Pct</th>\n",
       "      <th>Continent</th>\n",
       "      <th>GDP_per_Capita</th>\n",
       "    </tr>\n",
       "  </thead>\n",
       "  <tbody>\n",
       "    <tr>\n",
       "      <th>1798</th>\n",
       "      <td>Luxembourg</td>\n",
       "      <td>2014</td>\n",
       "      <td>94.67</td>\n",
       "      <td>Europe</td>\n",
       "      <td>108760.916030</td>\n",
       "    </tr>\n",
       "    <tr>\n",
       "      <th>2542</th>\n",
       "      <td>Qatar</td>\n",
       "      <td>2014</td>\n",
       "      <td>91.49</td>\n",
       "      <td>Asia</td>\n",
       "      <td>95578.416973</td>\n",
       "    </tr>\n",
       "    <tr>\n",
       "      <th>2751</th>\n",
       "      <td>Singapore</td>\n",
       "      <td>2014</td>\n",
       "      <td>82.00</td>\n",
       "      <td>Asia</td>\n",
       "      <td>87808.663157</td>\n",
       "    </tr>\n",
       "  </tbody>\n",
       "</table>\n",
       "</div>"
      ],
      "text/plain": [
       "         Country  Year  Internet_Users_Pct Continent  GDP_per_Capita\n",
       "1798  Luxembourg  2014               94.67    Europe   108760.916030\n",
       "2542       Qatar  2014               91.49      Asia    95578.416973\n",
       "2751   Singapore  2014               82.00      Asia    87808.663157"
      ]
     },
     "execution_count": 38,
     "metadata": {},
     "output_type": "execute_result"
    }
   ],
   "source": [
    "gdp_and_internet_use_2014_srt = gdp_and_internet_use_2014.sort_values(\"GDP_per_Capita\", ascending = False)\n",
    "gdp_and_internet_use_2014_srt.head(3)"
   ]
  },
  {
   "cell_type": "code",
   "execution_count": 39,
   "id": "92fd3d70",
   "metadata": {},
   "outputs": [
    {
     "data": {
      "text/html": [
       "<div>\n",
       "<style scoped>\n",
       "    .dataframe tbody tr th:only-of-type {\n",
       "        vertical-align: middle;\n",
       "    }\n",
       "\n",
       "    .dataframe tbody tr th {\n",
       "        vertical-align: top;\n",
       "    }\n",
       "\n",
       "    .dataframe thead th {\n",
       "        text-align: right;\n",
       "    }\n",
       "</style>\n",
       "<table border=\"1\" class=\"dataframe\">\n",
       "  <thead>\n",
       "    <tr style=\"text-align: right;\">\n",
       "      <th></th>\n",
       "      <th>Country</th>\n",
       "      <th>Year</th>\n",
       "      <th>Internet_Users_Pct</th>\n",
       "      <th>Continent</th>\n",
       "      <th>GDP_per_Capita</th>\n",
       "    </tr>\n",
       "  </thead>\n",
       "  <tbody>\n",
       "    <tr>\n",
       "      <th>1798</th>\n",
       "      <td>Luxembourg</td>\n",
       "      <td>2014</td>\n",
       "      <td>94.670000</td>\n",
       "      <td>Europe</td>\n",
       "      <td>108760.916030</td>\n",
       "    </tr>\n",
       "    <tr>\n",
       "      <th>1799</th>\n",
       "      <td>Luxembourg</td>\n",
       "      <td>2013</td>\n",
       "      <td>93.776500</td>\n",
       "      <td>Europe</td>\n",
       "      <td>106767.275005</td>\n",
       "    </tr>\n",
       "    <tr>\n",
       "      <th>1800</th>\n",
       "      <td>Luxembourg</td>\n",
       "      <td>2012</td>\n",
       "      <td>91.949924</td>\n",
       "      <td>Europe</td>\n",
       "      <td>105411.464571</td>\n",
       "    </tr>\n",
       "    <tr>\n",
       "      <th>1801</th>\n",
       "      <td>Luxembourg</td>\n",
       "      <td>2011</td>\n",
       "      <td>90.029859</td>\n",
       "      <td>Europe</td>\n",
       "      <td>108355.582583</td>\n",
       "    </tr>\n",
       "    <tr>\n",
       "      <th>1802</th>\n",
       "      <td>Luxembourg</td>\n",
       "      <td>2010</td>\n",
       "      <td>90.620000</td>\n",
       "      <td>Europe</td>\n",
       "      <td>108047.346867</td>\n",
       "    </tr>\n",
       "  </tbody>\n",
       "</table>\n",
       "</div>"
      ],
      "text/plain": [
       "         Country  Year  Internet_Users_Pct Continent  GDP_per_Capita\n",
       "1798  Luxembourg  2014           94.670000    Europe   108760.916030\n",
       "1799  Luxembourg  2013           93.776500    Europe   106767.275005\n",
       "1800  Luxembourg  2012           91.949924    Europe   105411.464571\n",
       "1801  Luxembourg  2011           90.029859    Europe   108355.582583\n",
       "1802  Luxembourg  2010           90.620000    Europe   108047.346867"
      ]
     },
     "execution_count": 39,
     "metadata": {},
     "output_type": "execute_result"
    }
   ],
   "source": [
    "top_3 = gdp_and_internet_use[gdp_and_internet_use[\"Country\"].isin(['Luxembourg', 'Qatar', 'Singapore'])]\n",
    "top_3.head()"
   ]
  },
  {
   "cell_type": "code",
   "execution_count": 40,
   "id": "03b35cc3",
   "metadata": {},
   "outputs": [
    {
     "data": {
      "image/png": "[encoded data removed]",
      "text/plain": [
       "<Figure size 648x216 with 3 Axes>"
      ]
     },
     "metadata": {
      "needs_background": "light"
     },
     "output_type": "display_data"
    }
   ],
   "source": [
    "facetgrid = sns.FacetGrid(top_3,col='Country') #initializes the grid and selects which column to use \n",
    "facetgrid.map(sns.scatterplot, \"Year\", \"Internet_Users_Pct\",); #adds the selected data into the facetgrid"
   ]
  },
  {
   "cell_type": "markdown",
   "id": "219b9d6a",
   "metadata": {},
   "source": [
    "## 29. The 3 countries with the largest GDP_per_Capita also have similar adoption rates for internet use. Qatar is shifted slightly to the right indicating they started adopting the internet at a later time, but they did rapidly adopt it, reaching 90% in about 15 years."
   ]
  },
  {
   "cell_type": "code",
   "execution_count": 41,
   "id": "ef86f322",
   "metadata": {},
   "outputs": [
    {
     "data": {
      "image/png": "[encoded data removed]",
      "text/plain": [
       "<Figure size 432x288 with 1 Axes>"
      ]
     },
     "metadata": {
      "needs_background": "light"
     },
     "output_type": "display_data"
    }
   ],
   "source": [
    "sns.scatterplot(data = gdp_and_internet_use_2014, y = \"Internet_Users_Pct\", x = \"GDP_per_Capita\");"
   ]
  },
  {
   "cell_type": "markdown",
   "id": "50ccede9",
   "metadata": {},
   "source": [
    "## 30. GDP_per_Capita is a strong predictor for percentage of internet users. The higher the GDP_per_Capita the higher the internet_user_Pct. The relationship is not exactly linear. It shoots up rapidly at low GDP, but plateaus around 60K GDP with little change in internet user per after 60K. "
   ]
  },
  {
   "cell_type": "code",
   "execution_count": 42,
   "id": "9befd997",
   "metadata": {},
   "outputs": [
    {
     "data": {
      "text/html": [
       "<div>\n",
       "<style scoped>\n",
       "    .dataframe tbody tr th:only-of-type {\n",
       "        vertical-align: middle;\n",
       "    }\n",
       "\n",
       "    .dataframe tbody tr th {\n",
       "        vertical-align: top;\n",
       "    }\n",
       "\n",
       "    .dataframe thead th {\n",
       "        text-align: right;\n",
       "    }\n",
       "</style>\n",
       "<table border=\"1\" class=\"dataframe\">\n",
       "  <thead>\n",
       "    <tr style=\"text-align: right;\">\n",
       "      <th></th>\n",
       "      <th>Year</th>\n",
       "      <th>Internet_Users_Pct</th>\n",
       "      <th>GDP_per_Capita</th>\n",
       "    </tr>\n",
       "  </thead>\n",
       "  <tbody>\n",
       "    <tr>\n",
       "      <th>Year</th>\n",
       "      <td>NaN</td>\n",
       "      <td>NaN</td>\n",
       "      <td>NaN</td>\n",
       "    </tr>\n",
       "    <tr>\n",
       "      <th>Internet_Users_Pct</th>\n",
       "      <td>NaN</td>\n",
       "      <td>1.000000</td>\n",
       "      <td>0.824627</td>\n",
       "    </tr>\n",
       "    <tr>\n",
       "      <th>GDP_per_Capita</th>\n",
       "      <td>NaN</td>\n",
       "      <td>0.824627</td>\n",
       "      <td>1.000000</td>\n",
       "    </tr>\n",
       "  </tbody>\n",
       "</table>\n",
       "</div>"
      ],
      "text/plain": [
       "                    Year  Internet_Users_Pct  GDP_per_Capita\n",
       "Year                 NaN                 NaN             NaN\n",
       "Internet_Users_Pct   NaN            1.000000        0.824627\n",
       "GDP_per_Capita       NaN            0.824627        1.000000"
      ]
     },
     "execution_count": 42,
     "metadata": {},
     "output_type": "execute_result"
    }
   ],
   "source": [
    "gdp_and_internet_use_2014.corr()"
   ]
  },
  {
   "cell_type": "markdown",
   "id": "05e8d159",
   "metadata": {},
   "source": [
    "## 31. A correlation coefficient of 0.82 is a strong positive correlation between GDP_per_Capita and Internet_User_Pct"
   ]
  },
  {
   "cell_type": "code",
   "execution_count": 43,
   "id": "4a3c12bd",
   "metadata": {},
   "outputs": [
    {
     "name": "stderr",
     "output_type": "stream",
     "text": [
      "<ipython-input-43-0dc2a3dc80a4>:1: SettingWithCopyWarning: \n",
      "A value is trying to be set on a copy of a slice from a DataFrame.\n",
      "Try using .loc[row_indexer,col_indexer] = value instead\n",
      "\n",
      "See the caveats in the documentation: https://pandas.pydata.org/pandas-docs/stable/user_guide/indexing.html#returning-a-view-versus-a-copy\n",
      "  gdp_and_internet_use_2014['Log_GDP_per_Capita'] = np.log(gdp_and_internet_use_2014[\"GDP_per_Capita\"])\n"
     ]
    }
   ],
   "source": [
    "gdp_and_internet_use_2014['Log_GDP_per_Capita'] = np.log(gdp_and_internet_use_2014[\"GDP_per_Capita\"])"
   ]
  },
  {
   "cell_type": "code",
   "execution_count": 44,
   "id": "43743ed3",
   "metadata": {},
   "outputs": [
    {
     "data": {
      "text/html": [
       "<div>\n",
       "<style scoped>\n",
       "    .dataframe tbody tr th:only-of-type {\n",
       "        vertical-align: middle;\n",
       "    }\n",
       "\n",
       "    .dataframe tbody tr th {\n",
       "        vertical-align: top;\n",
       "    }\n",
       "\n",
       "    .dataframe thead th {\n",
       "        text-align: right;\n",
       "    }\n",
       "</style>\n",
       "<table border=\"1\" class=\"dataframe\">\n",
       "  <thead>\n",
       "    <tr style=\"text-align: right;\">\n",
       "      <th></th>\n",
       "      <th>Country</th>\n",
       "      <th>Year</th>\n",
       "      <th>Internet_Users_Pct</th>\n",
       "      <th>Continent</th>\n",
       "      <th>GDP_per_Capita</th>\n",
       "      <th>Log_GDP_per_Capita</th>\n",
       "    </tr>\n",
       "  </thead>\n",
       "  <tbody>\n",
       "    <tr>\n",
       "      <th>0</th>\n",
       "      <td>Afghanistan</td>\n",
       "      <td>2014</td>\n",
       "      <td>6.39</td>\n",
       "      <td>Asia</td>\n",
       "      <td>2102.385234</td>\n",
       "      <td>7.650828</td>\n",
       "    </tr>\n",
       "    <tr>\n",
       "      <th>13</th>\n",
       "      <td>Albania</td>\n",
       "      <td>2014</td>\n",
       "      <td>60.10</td>\n",
       "      <td>Europe</td>\n",
       "      <td>11623.866679</td>\n",
       "      <td>9.360816</td>\n",
       "    </tr>\n",
       "    <tr>\n",
       "      <th>34</th>\n",
       "      <td>Algeria</td>\n",
       "      <td>2014</td>\n",
       "      <td>18.09</td>\n",
       "      <td>Africa</td>\n",
       "      <td>11512.705405</td>\n",
       "      <td>9.351207</td>\n",
       "    </tr>\n",
       "    <tr>\n",
       "      <th>56</th>\n",
       "      <td>Angola</td>\n",
       "      <td>2014</td>\n",
       "      <td>21.26</td>\n",
       "      <td>Africa</td>\n",
       "      <td>8239.828837</td>\n",
       "      <td>9.016735</td>\n",
       "    </tr>\n",
       "    <tr>\n",
       "      <th>76</th>\n",
       "      <td>Antigua and Barbuda</td>\n",
       "      <td>2014</td>\n",
       "      <td>64.00</td>\n",
       "      <td>North America</td>\n",
       "      <td>18104.241470</td>\n",
       "      <td>9.803902</td>\n",
       "    </tr>\n",
       "    <tr>\n",
       "      <th>...</th>\n",
       "      <td>...</td>\n",
       "      <td>...</td>\n",
       "      <td>...</td>\n",
       "      <td>...</td>\n",
       "      <td>...</td>\n",
       "      <td>...</td>\n",
       "    </tr>\n",
       "    <tr>\n",
       "      <th>3351</th>\n",
       "      <td>Uruguay</td>\n",
       "      <td>2014</td>\n",
       "      <td>61.46</td>\n",
       "      <td>South America</td>\n",
       "      <td>20582.168953</td>\n",
       "      <td>9.932180</td>\n",
       "    </tr>\n",
       "    <tr>\n",
       "      <th>3373</th>\n",
       "      <td>Uzbekistan</td>\n",
       "      <td>2014</td>\n",
       "      <td>43.55</td>\n",
       "      <td>Asia</td>\n",
       "      <td>5764.492705</td>\n",
       "      <td>8.659472</td>\n",
       "    </tr>\n",
       "    <tr>\n",
       "      <th>3394</th>\n",
       "      <td>Vanuatu</td>\n",
       "      <td>2014</td>\n",
       "      <td>18.80</td>\n",
       "      <td>Oceania</td>\n",
       "      <td>3116.077025</td>\n",
       "      <td>8.044330</td>\n",
       "    </tr>\n",
       "    <tr>\n",
       "      <th>3414</th>\n",
       "      <td>Zambia</td>\n",
       "      <td>2014</td>\n",
       "      <td>17.34</td>\n",
       "      <td>Africa</td>\n",
       "      <td>3450.046561</td>\n",
       "      <td>8.146143</td>\n",
       "    </tr>\n",
       "    <tr>\n",
       "      <th>3436</th>\n",
       "      <td>Zimbabwe</td>\n",
       "      <td>2014</td>\n",
       "      <td>19.89</td>\n",
       "      <td>Africa</td>\n",
       "      <td>2955.240287</td>\n",
       "      <td>7.991335</td>\n",
       "    </tr>\n",
       "  </tbody>\n",
       "</table>\n",
       "<p>163 rows × 6 columns</p>\n",
       "</div>"
      ],
      "text/plain": [
       "                  Country  Year  Internet_Users_Pct      Continent  \\\n",
       "0             Afghanistan  2014                6.39           Asia   \n",
       "13                Albania  2014               60.10         Europe   \n",
       "34                Algeria  2014               18.09         Africa   \n",
       "56                 Angola  2014               21.26         Africa   \n",
       "76    Antigua and Barbuda  2014               64.00  North America   \n",
       "...                   ...   ...                 ...            ...   \n",
       "3351              Uruguay  2014               61.46  South America   \n",
       "3373           Uzbekistan  2014               43.55           Asia   \n",
       "3394              Vanuatu  2014               18.80        Oceania   \n",
       "3414               Zambia  2014               17.34         Africa   \n",
       "3436             Zimbabwe  2014               19.89         Africa   \n",
       "\n",
       "      GDP_per_Capita  Log_GDP_per_Capita  \n",
       "0        2102.385234            7.650828  \n",
       "13      11623.866679            9.360816  \n",
       "34      11512.705405            9.351207  \n",
       "56       8239.828837            9.016735  \n",
       "76      18104.241470            9.803902  \n",
       "...              ...                 ...  \n",
       "3351    20582.168953            9.932180  \n",
       "3373     5764.492705            8.659472  \n",
       "3394     3116.077025            8.044330  \n",
       "3414     3450.046561            8.146143  \n",
       "3436     2955.240287            7.991335  \n",
       "\n",
       "[163 rows x 6 columns]"
      ]
     },
     "execution_count": 44,
     "metadata": {},
     "output_type": "execute_result"
    }
   ],
   "source": [
    "gdp_and_internet_use_2014"
   ]
  },
  {
   "cell_type": "code",
   "execution_count": 45,
   "id": "4af53295",
   "metadata": {},
   "outputs": [
    {
     "data": {
      "text/html": [
       "<div>\n",
       "<style scoped>\n",
       "    .dataframe tbody tr th:only-of-type {\n",
       "        vertical-align: middle;\n",
       "    }\n",
       "\n",
       "    .dataframe tbody tr th {\n",
       "        vertical-align: top;\n",
       "    }\n",
       "\n",
       "    .dataframe thead th {\n",
       "        text-align: right;\n",
       "    }\n",
       "</style>\n",
       "<table border=\"1\" class=\"dataframe\">\n",
       "  <thead>\n",
       "    <tr style=\"text-align: right;\">\n",
       "      <th></th>\n",
       "      <th>Year</th>\n",
       "      <th>Internet_Users_Pct</th>\n",
       "      <th>GDP_per_Capita</th>\n",
       "      <th>Log_GDP_per_Capita</th>\n",
       "    </tr>\n",
       "  </thead>\n",
       "  <tbody>\n",
       "    <tr>\n",
       "      <th>Year</th>\n",
       "      <td>NaN</td>\n",
       "      <td>NaN</td>\n",
       "      <td>NaN</td>\n",
       "      <td>NaN</td>\n",
       "    </tr>\n",
       "    <tr>\n",
       "      <th>Internet_Users_Pct</th>\n",
       "      <td>NaN</td>\n",
       "      <td>1.000000</td>\n",
       "      <td>0.824627</td>\n",
       "      <td>0.903987</td>\n",
       "    </tr>\n",
       "    <tr>\n",
       "      <th>GDP_per_Capita</th>\n",
       "      <td>NaN</td>\n",
       "      <td>0.824627</td>\n",
       "      <td>1.000000</td>\n",
       "      <td>0.864009</td>\n",
       "    </tr>\n",
       "    <tr>\n",
       "      <th>Log_GDP_per_Capita</th>\n",
       "      <td>NaN</td>\n",
       "      <td>0.903987</td>\n",
       "      <td>0.864009</td>\n",
       "      <td>1.000000</td>\n",
       "    </tr>\n",
       "  </tbody>\n",
       "</table>\n",
       "</div>"
      ],
      "text/plain": [
       "                    Year  Internet_Users_Pct  GDP_per_Capita  \\\n",
       "Year                 NaN                 NaN             NaN   \n",
       "Internet_Users_Pct   NaN            1.000000        0.824627   \n",
       "GDP_per_Capita       NaN            0.824627        1.000000   \n",
       "Log_GDP_per_Capita   NaN            0.903987        0.864009   \n",
       "\n",
       "                    Log_GDP_per_Capita  \n",
       "Year                               NaN  \n",
       "Internet_Users_Pct            0.903987  \n",
       "GDP_per_Capita                0.864009  \n",
       "Log_GDP_per_Capita            1.000000  "
      ]
     },
     "execution_count": 45,
     "metadata": {},
     "output_type": "execute_result"
    }
   ],
   "source": [
    "gdp_and_internet_use_2014.corr()"
   ]
  },
  {
   "cell_type": "markdown",
   "id": "1734fe42",
   "metadata": {},
   "source": [
    "## 32. The correlation coefficient is higher for Log_GDP_per_Capita than it is for the untransformed GDP_per_Capita. If we replot the scatter plot with Log_GDP_per_Capita, we can see that the points fall more along a straight line instead of rapidly increasing and plateauing. "
   ]
  },
  {
   "cell_type": "code",
   "execution_count": 46,
   "id": "168db2f4",
   "metadata": {},
   "outputs": [
    {
     "data": {
      "image/png": "[encoded data removed]",
      "text/plain": [
       "<Figure size 432x288 with 1 Axes>"
      ]
     },
     "metadata": {
      "needs_background": "light"
     },
     "output_type": "display_data"
    }
   ],
   "source": [
    "sns.scatterplot(data = gdp_and_internet_use_2014, y = \"Internet_Users_Pct\", x = \"Log_GDP_per_Capita\");"
   ]
  },
  {
   "cell_type": "code",
   "execution_count": 47,
   "id": "98ead510",
   "metadata": {},
   "outputs": [],
   "source": [
    "USA = gdp_and_internet_use[gdp_and_internet_use[\"Country\"].isin(['United States'])]"
   ]
  },
  {
   "cell_type": "code",
   "execution_count": 48,
   "id": "6f0146b8",
   "metadata": {},
   "outputs": [
    {
     "data": {
      "text/html": [
       "<div>\n",
       "<style scoped>\n",
       "    .dataframe tbody tr th:only-of-type {\n",
       "        vertical-align: middle;\n",
       "    }\n",
       "\n",
       "    .dataframe tbody tr th {\n",
       "        vertical-align: top;\n",
       "    }\n",
       "\n",
       "    .dataframe thead th {\n",
       "        text-align: right;\n",
       "    }\n",
       "</style>\n",
       "<table border=\"1\" class=\"dataframe\">\n",
       "  <thead>\n",
       "    <tr style=\"text-align: right;\">\n",
       "      <th></th>\n",
       "      <th>Year</th>\n",
       "      <th>Internet_Users_Pct</th>\n",
       "      <th>GDP_per_Capita</th>\n",
       "    </tr>\n",
       "  </thead>\n",
       "  <tbody>\n",
       "    <tr>\n",
       "      <th>Year</th>\n",
       "      <td>1.000000</td>\n",
       "      <td>0.969113</td>\n",
       "      <td>0.96344</td>\n",
       "    </tr>\n",
       "    <tr>\n",
       "      <th>Internet_Users_Pct</th>\n",
       "      <td>0.969113</td>\n",
       "      <td>1.000000</td>\n",
       "      <td>0.99166</td>\n",
       "    </tr>\n",
       "    <tr>\n",
       "      <th>GDP_per_Capita</th>\n",
       "      <td>0.963440</td>\n",
       "      <td>0.991660</td>\n",
       "      <td>1.00000</td>\n",
       "    </tr>\n",
       "  </tbody>\n",
       "</table>\n",
       "</div>"
      ],
      "text/plain": [
       "                        Year  Internet_Users_Pct  GDP_per_Capita\n",
       "Year                1.000000            0.969113         0.96344\n",
       "Internet_Users_Pct  0.969113            1.000000         0.99166\n",
       "GDP_per_Capita      0.963440            0.991660         1.00000"
      ]
     },
     "execution_count": 48,
     "metadata": {},
     "output_type": "execute_result"
    }
   ],
   "source": [
    "USA.corr()"
   ]
  },
  {
   "cell_type": "code",
   "execution_count": 49,
   "id": "6ff9bf17",
   "metadata": {},
   "outputs": [
    {
     "data": {
      "image/png": "[encoded data removed]",
      "text/plain": [
       "<Figure size 432x288 with 1 Axes>"
      ]
     },
     "metadata": {
      "needs_background": "light"
     },
     "output_type": "display_data"
    }
   ],
   "source": [
    "sns.scatterplot(data = USA, y = \"Internet_Users_Pct\", x = \"GDP_per_Capita\");"
   ]
  },
  {
   "cell_type": "code",
   "execution_count": 50,
   "id": "e43938e0",
   "metadata": {},
   "outputs": [
    {
     "data": {
      "image/png": "[encoded data removed]",
      "text/plain": [
       "<Figure size 432x288 with 1 Axes>"
      ]
     },
     "metadata": {
      "needs_background": "light"
     },
     "output_type": "display_data"
    }
   ],
   "source": [
    "sns.scatterplot(data = USA, y = \"Internet_Users_Pct\", x = \"Year\");"
   ]
  },
  {
   "cell_type": "code",
   "execution_count": 51,
   "id": "cd43e511",
   "metadata": {},
   "outputs": [
    {
     "data": {
      "image/png": "[encoded data removed]",
      "text/plain": [
       "<Figure size 432x288 with 1 Axes>"
      ]
     },
     "metadata": {
      "needs_background": "light"
     },
     "output_type": "display_data"
    }
   ],
   "source": [
    "sns.scatterplot(data = USA, y = \"GDP_per_Capita\", x = \"Year\");"
   ]
  },
  {
   "cell_type": "markdown",
   "id": "d45f02e3",
   "metadata": {},
   "source": [
    "## 33. There is a strong positive correlation between GDP_per_Capita and Internet_Users_Pct for the USA. However there is almost an equally positive correlation between Internet_Users_Pct and year. It's hard to see if GDP is a good predictor for internet use or if the passage of the years since the internet was invented is a stronger predictor for the USA. "
   ]
  },
  {
   "cell_type": "markdown",
   "id": "05f5e18e",
   "metadata": {},
   "source": [
    "# Solo Exploration"
   ]
  },
  {
   "cell_type": "code",
   "execution_count": 52,
   "id": "38aa5837",
   "metadata": {},
   "outputs": [
    {
     "data": {
      "text/html": [
       "<div>\n",
       "<style scoped>\n",
       "    .dataframe tbody tr th:only-of-type {\n",
       "        vertical-align: middle;\n",
       "    }\n",
       "\n",
       "    .dataframe tbody tr th {\n",
       "        vertical-align: top;\n",
       "    }\n",
       "\n",
       "    .dataframe thead th {\n",
       "        text-align: right;\n",
       "    }\n",
       "</style>\n",
       "<table border=\"1\" class=\"dataframe\">\n",
       "  <thead>\n",
       "    <tr style=\"text-align: right;\">\n",
       "      <th></th>\n",
       "      <th>Country or Area</th>\n",
       "      <th>Subgroup</th>\n",
       "      <th>Year</th>\n",
       "      <th>Source</th>\n",
       "      <th>Unit</th>\n",
       "      <th>Value</th>\n",
       "      <th>Value Footnotes</th>\n",
       "    </tr>\n",
       "  </thead>\n",
       "  <tbody>\n",
       "    <tr>\n",
       "      <th>0</th>\n",
       "      <td>Albania</td>\n",
       "      <td>Female 15-24 yr</td>\n",
       "      <td>2005</td>\n",
       "      <td>UNSD_MDGInfo CDROM_Oct2007</td>\n",
       "      <td>Percent</td>\n",
       "      <td>5.6</td>\n",
       "      <td>NaN</td>\n",
       "    </tr>\n",
       "    <tr>\n",
       "      <th>1</th>\n",
       "      <td>Algeria</td>\n",
       "      <td>Female 15-24 yr</td>\n",
       "      <td>2006</td>\n",
       "      <td>UNSD_MDGInfo CDROM_Oct2007</td>\n",
       "      <td>Percent</td>\n",
       "      <td>13.1</td>\n",
       "      <td>NaN</td>\n",
       "    </tr>\n",
       "    <tr>\n",
       "      <th>2</th>\n",
       "      <td>Armenia</td>\n",
       "      <td>Female 15-24 yr</td>\n",
       "      <td>2005</td>\n",
       "      <td>UNSD_MDGInfo CDROM_Oct2007</td>\n",
       "      <td>Percent</td>\n",
       "      <td>22.6</td>\n",
       "      <td>NaN</td>\n",
       "    </tr>\n",
       "    <tr>\n",
       "      <th>3</th>\n",
       "      <td>Armenia</td>\n",
       "      <td>Male 15-24 yr</td>\n",
       "      <td>2005</td>\n",
       "      <td>UNSD_MDGInfo CDROM_Oct2007</td>\n",
       "      <td>Percent</td>\n",
       "      <td>15.1</td>\n",
       "      <td>NaN</td>\n",
       "    </tr>\n",
       "    <tr>\n",
       "      <th>4</th>\n",
       "      <td>Armenia</td>\n",
       "      <td>Male 15-24 yr</td>\n",
       "      <td>2000</td>\n",
       "      <td>UNSD_MDGInfo CDROM_Oct2007</td>\n",
       "      <td>Percent</td>\n",
       "      <td>8.0</td>\n",
       "      <td>NaN</td>\n",
       "    </tr>\n",
       "    <tr>\n",
       "      <th>...</th>\n",
       "      <td>...</td>\n",
       "      <td>...</td>\n",
       "      <td>...</td>\n",
       "      <td>...</td>\n",
       "      <td>...</td>\n",
       "      <td>...</td>\n",
       "      <td>...</td>\n",
       "    </tr>\n",
       "    <tr>\n",
       "      <th>121</th>\n",
       "      <td>Ukraine</td>\n",
       "      <td>Female 15-24 yr</td>\n",
       "      <td>2006</td>\n",
       "      <td>UNSD_MDGInfo CDROM_Oct2007</td>\n",
       "      <td>Percent</td>\n",
       "      <td>28.2</td>\n",
       "      <td>NaN</td>\n",
       "    </tr>\n",
       "    <tr>\n",
       "      <th>122</th>\n",
       "      <td>Uzbekistan</td>\n",
       "      <td>Female 15-24 yr</td>\n",
       "      <td>2006</td>\n",
       "      <td>UNSD_MDGInfo CDROM_Oct2007</td>\n",
       "      <td>Percent</td>\n",
       "      <td>31.0</td>\n",
       "      <td>NaN</td>\n",
       "    </tr>\n",
       "    <tr>\n",
       "      <th>123</th>\n",
       "      <td>Uzbekistan</td>\n",
       "      <td>Male 15-24 yr</td>\n",
       "      <td>2002</td>\n",
       "      <td>UNSD_MDGInfo CDROM_Oct2007</td>\n",
       "      <td>Percent</td>\n",
       "      <td>7.0</td>\n",
       "      <td>NaN</td>\n",
       "    </tr>\n",
       "    <tr>\n",
       "      <th>124</th>\n",
       "      <td>Vietnam</td>\n",
       "      <td>Female 15-24 yr</td>\n",
       "      <td>2006</td>\n",
       "      <td>UNSD_MDGInfo CDROM_Oct2007</td>\n",
       "      <td>Percent</td>\n",
       "      <td>42.3</td>\n",
       "      <td>NaN</td>\n",
       "    </tr>\n",
       "    <tr>\n",
       "      <th>125</th>\n",
       "      <td>Vietnam</td>\n",
       "      <td>Male 15-24 yr</td>\n",
       "      <td>2005</td>\n",
       "      <td>UNSD_MDGInfo CDROM_Oct2007</td>\n",
       "      <td>Percent</td>\n",
       "      <td>50.3</td>\n",
       "      <td>NaN</td>\n",
       "    </tr>\n",
       "  </tbody>\n",
       "</table>\n",
       "<p>126 rows × 7 columns</p>\n",
       "</div>"
      ],
      "text/plain": [
       "    Country or Area         Subgroup  Year                      Source  \\\n",
       "0           Albania  Female 15-24 yr  2005  UNSD_MDGInfo CDROM_Oct2007   \n",
       "1           Algeria  Female 15-24 yr  2006  UNSD_MDGInfo CDROM_Oct2007   \n",
       "2           Armenia  Female 15-24 yr  2005  UNSD_MDGInfo CDROM_Oct2007   \n",
       "3           Armenia    Male 15-24 yr  2005  UNSD_MDGInfo CDROM_Oct2007   \n",
       "4           Armenia    Male 15-24 yr  2000  UNSD_MDGInfo CDROM_Oct2007   \n",
       "..              ...              ...   ...                         ...   \n",
       "121         Ukraine  Female 15-24 yr  2006  UNSD_MDGInfo CDROM_Oct2007   \n",
       "122      Uzbekistan  Female 15-24 yr  2006  UNSD_MDGInfo CDROM_Oct2007   \n",
       "123      Uzbekistan    Male 15-24 yr  2002  UNSD_MDGInfo CDROM_Oct2007   \n",
       "124         Vietnam  Female 15-24 yr  2006  UNSD_MDGInfo CDROM_Oct2007   \n",
       "125         Vietnam    Male 15-24 yr  2005  UNSD_MDGInfo CDROM_Oct2007   \n",
       "\n",
       "        Unit  Value  Value Footnotes  \n",
       "0    Percent    5.6              NaN  \n",
       "1    Percent   13.1              NaN  \n",
       "2    Percent   22.6              NaN  \n",
       "3    Percent   15.1              NaN  \n",
       "4    Percent    8.0              NaN  \n",
       "..       ...    ...              ...  \n",
       "121  Percent   28.2              NaN  \n",
       "122  Percent   31.0              NaN  \n",
       "123  Percent    7.0              NaN  \n",
       "124  Percent   42.3              NaN  \n",
       "125  Percent   50.3              NaN  \n",
       "\n",
       "[126 rows x 7 columns]"
      ]
     },
     "execution_count": 52,
     "metadata": {},
     "output_type": "execute_result"
    }
   ],
   "source": [
    "HIV_knowledge = pd.read_csv('../data/Knowledge of HIV AIDS.csv')\n",
    "HIV_knowledge.head(-5)"
   ]
  },
  {
   "cell_type": "markdown",
   "id": "8aa11a70",
   "metadata": {},
   "source": [
    "#### Rename \"Value\" column to AIDS_know_perc and drop \"Unit\" Column\n",
    "#### Drop Value_Footnotes and Source Column \n",
    "#### Check column data types\n",
    "#### merge GDP_and_internet_use  with this data set\n"
   ]
  },
  {
   "cell_type": "code",
   "execution_count": 53,
   "id": "31fbfe8f",
   "metadata": {},
   "outputs": [
    {
     "name": "stdout",
     "output_type": "stream",
     "text": [
      "<class 'pandas.core.frame.DataFrame'>\n",
      "RangeIndex: 131 entries, 0 to 130\n",
      "Data columns (total 4 columns):\n",
      " #   Column          Non-Null Count  Dtype  \n",
      "---  ------          --------------  -----  \n",
      " 0   Country         131 non-null    object \n",
      " 1   Subgroup        131 non-null    object \n",
      " 2   Year            131 non-null    int64  \n",
      " 3   AIDS_know_perc  131 non-null    float64\n",
      "dtypes: float64(1), int64(1), object(2)\n",
      "memory usage: 4.2+ KB\n"
     ]
    }
   ],
   "source": [
    "HIV_knowledge = (HIV_knowledge\n",
    "          .drop(columns = [\"Source\",\"Unit\",\"Value Footnotes\",])\n",
    "          .rename(columns={\"Country or Area\": \"Country\", \"Value\": \"AIDS_know_perc\"}))#rename column to make merging later easier and more descriptive name for AIDS knowledge\n",
    "                \n",
    "HIV_knowledge.info()"
   ]
  },
  {
   "cell_type": "code",
   "execution_count": 54,
   "id": "ea5fe94f",
   "metadata": {},
   "outputs": [
    {
     "data": {
      "text/html": [
       "<div>\n",
       "<style scoped>\n",
       "    .dataframe tbody tr th:only-of-type {\n",
       "        vertical-align: middle;\n",
       "    }\n",
       "\n",
       "    .dataframe tbody tr th {\n",
       "        vertical-align: top;\n",
       "    }\n",
       "\n",
       "    .dataframe thead th {\n",
       "        text-align: right;\n",
       "    }\n",
       "</style>\n",
       "<table border=\"1\" class=\"dataframe\">\n",
       "  <thead>\n",
       "    <tr style=\"text-align: right;\">\n",
       "      <th></th>\n",
       "      <th>Country</th>\n",
       "      <th>Subgroup</th>\n",
       "      <th>Year</th>\n",
       "      <th>AIDS_know_perc</th>\n",
       "    </tr>\n",
       "  </thead>\n",
       "  <tbody>\n",
       "    <tr>\n",
       "      <th>0</th>\n",
       "      <td>Albania</td>\n",
       "      <td>Female 15-24 yr</td>\n",
       "      <td>2005</td>\n",
       "      <td>5.6</td>\n",
       "    </tr>\n",
       "    <tr>\n",
       "      <th>1</th>\n",
       "      <td>Algeria</td>\n",
       "      <td>Female 15-24 yr</td>\n",
       "      <td>2006</td>\n",
       "      <td>13.1</td>\n",
       "    </tr>\n",
       "    <tr>\n",
       "      <th>2</th>\n",
       "      <td>Armenia</td>\n",
       "      <td>Female 15-24 yr</td>\n",
       "      <td>2005</td>\n",
       "      <td>22.6</td>\n",
       "    </tr>\n",
       "    <tr>\n",
       "      <th>3</th>\n",
       "      <td>Armenia</td>\n",
       "      <td>Male 15-24 yr</td>\n",
       "      <td>2005</td>\n",
       "      <td>15.1</td>\n",
       "    </tr>\n",
       "    <tr>\n",
       "      <th>4</th>\n",
       "      <td>Armenia</td>\n",
       "      <td>Male 15-24 yr</td>\n",
       "      <td>2000</td>\n",
       "      <td>8.0</td>\n",
       "    </tr>\n",
       "    <tr>\n",
       "      <th>...</th>\n",
       "      <td>...</td>\n",
       "      <td>...</td>\n",
       "      <td>...</td>\n",
       "      <td>...</td>\n",
       "    </tr>\n",
       "    <tr>\n",
       "      <th>121</th>\n",
       "      <td>Ukraine</td>\n",
       "      <td>Female 15-24 yr</td>\n",
       "      <td>2006</td>\n",
       "      <td>28.2</td>\n",
       "    </tr>\n",
       "    <tr>\n",
       "      <th>122</th>\n",
       "      <td>Uzbekistan</td>\n",
       "      <td>Female 15-24 yr</td>\n",
       "      <td>2006</td>\n",
       "      <td>31.0</td>\n",
       "    </tr>\n",
       "    <tr>\n",
       "      <th>123</th>\n",
       "      <td>Uzbekistan</td>\n",
       "      <td>Male 15-24 yr</td>\n",
       "      <td>2002</td>\n",
       "      <td>7.0</td>\n",
       "    </tr>\n",
       "    <tr>\n",
       "      <th>124</th>\n",
       "      <td>Vietnam</td>\n",
       "      <td>Female 15-24 yr</td>\n",
       "      <td>2006</td>\n",
       "      <td>42.3</td>\n",
       "    </tr>\n",
       "    <tr>\n",
       "      <th>125</th>\n",
       "      <td>Vietnam</td>\n",
       "      <td>Male 15-24 yr</td>\n",
       "      <td>2005</td>\n",
       "      <td>50.3</td>\n",
       "    </tr>\n",
       "  </tbody>\n",
       "</table>\n",
       "<p>126 rows × 4 columns</p>\n",
       "</div>"
      ],
      "text/plain": [
       "        Country         Subgroup  Year  AIDS_know_perc\n",
       "0       Albania  Female 15-24 yr  2005             5.6\n",
       "1       Algeria  Female 15-24 yr  2006            13.1\n",
       "2       Armenia  Female 15-24 yr  2005            22.6\n",
       "3       Armenia    Male 15-24 yr  2005            15.1\n",
       "4       Armenia    Male 15-24 yr  2000             8.0\n",
       "..          ...              ...   ...             ...\n",
       "121     Ukraine  Female 15-24 yr  2006            28.2\n",
       "122  Uzbekistan  Female 15-24 yr  2006            31.0\n",
       "123  Uzbekistan    Male 15-24 yr  2002             7.0\n",
       "124     Vietnam  Female 15-24 yr  2006            42.3\n",
       "125     Vietnam    Male 15-24 yr  2005            50.3\n",
       "\n",
       "[126 rows x 4 columns]"
      ]
     },
     "execution_count": 54,
     "metadata": {},
     "output_type": "execute_result"
    }
   ],
   "source": [
    "HIV_knowledge.head(-5)"
   ]
  },
  {
   "cell_type": "code",
   "execution_count": 55,
   "id": "5162f0a2",
   "metadata": {},
   "outputs": [
    {
     "data": {
      "text/plain": [
       "2006"
      ]
     },
     "execution_count": 55,
     "metadata": {},
     "output_type": "execute_result"
    }
   ],
   "source": [
    "HIV_knowledge[\"Year\"].max()"
   ]
  },
  {
   "cell_type": "code",
   "execution_count": 56,
   "id": "a3e87db8",
   "metadata": {},
   "outputs": [
    {
     "data": {
      "text/plain": [
       "1996"
      ]
     },
     "execution_count": 56,
     "metadata": {},
     "output_type": "execute_result"
    }
   ],
   "source": [
    "HIV_knowledge[\"Year\"].min()"
   ]
  },
  {
   "cell_type": "code",
   "execution_count": 59,
   "id": "5ecafb23",
   "metadata": {},
   "outputs": [
    {
     "data": {
      "image/png": "[encoded data removed]",
      "text/plain": [
       "<Figure size 432x288 with 1 Axes>"
      ]
     },
     "metadata": {
      "needs_background": "light"
     },
     "output_type": "display_data"
    }
   ],
   "source": [
    "HIV_knowledge_mean = HIV_knowledge.groupby('Year')['AIDS_know_perc'].mean() \n",
    "HIV_knowledge_mean.plot(kind = 'line',\n",
    "                      x='Year',\n",
    "                      y='AIDS_know_perc')\n",
    "plt.ylabel(\"AIDS_know_perc\")\n",
    "plt.title(\"Change in AIDS Knowledge over Time\");"
   ]
  },
  {
   "cell_type": "markdown",
   "id": "f1515096",
   "metadata": {},
   "source": [
    "What causes this dip between 1999 and 2004? \n",
    "\n",
    "Below: It's probably from a decrease in the number of observations. There actually aren't a lot of data points in this dataset. "
   ]
  },
  {
   "cell_type": "code",
   "execution_count": 83,
   "id": "655dcf61",
   "metadata": {},
   "outputs": [
    {
     "data": {
      "image/png": "[encoded data removed]",
      "text/plain": [
       "<Figure size 720x360 with 1 Axes>"
      ]
     },
     "metadata": {
      "needs_background": "light"
     },
     "output_type": "display_data"
    }
   ],
   "source": [
    "plt.figure(figsize = (10,5))\n",
    "sns.boxplot(data = gdp_internet_use_HIV_know,\n",
    "            x = 'Year',\n",
    "            y = 'AIDS_know_perc');"
   ]
  },
  {
   "cell_type": "code",
   "execution_count": 61,
   "id": "968b0f49",
   "metadata": {},
   "outputs": [
    {
     "data": {
      "text/plain": [
       "Year\n",
       "1996    23.000000\n",
       "1999    29.000000\n",
       "2000    23.133333\n",
       "2001    21.714286\n",
       "2002    22.000000\n",
       "2003    26.357143\n",
       "2004    30.933333\n",
       "2005    31.460000\n",
       "2006    28.686842\n",
       "Name: AIDS_know_perc, dtype: float64"
      ]
     },
     "execution_count": 61,
     "metadata": {},
     "output_type": "execute_result"
    }
   ],
   "source": [
    "HIV_knowledge.groupby(\"Year\")[\"AIDS_know_perc\"].mean()"
   ]
  },
  {
   "cell_type": "code",
   "execution_count": 82,
   "id": "b8960645",
   "metadata": {},
   "outputs": [
    {
     "data": {
      "text/plain": [
       "2005    40\n",
       "2006    38\n",
       "2000    15\n",
       "2003    14\n",
       "2004    12\n",
       "2001     7\n",
       "1996     2\n",
       "2002     2\n",
       "1999     1\n",
       "Name: Year, dtype: int64"
      ]
     },
     "execution_count": 82,
     "metadata": {},
     "output_type": "execute_result"
    }
   ],
   "source": [
    "HIV_knowledge[\"Year\"].value_counts()"
   ]
  },
  {
   "cell_type": "markdown",
   "id": "4937d355",
   "metadata": {},
   "source": [
    "## Merge with GDP and Internet use data set"
   ]
  },
  {
   "cell_type": "code",
   "execution_count": 63,
   "id": "5a434398",
   "metadata": {},
   "outputs": [
    {
     "data": {
      "text/html": [
       "<div>\n",
       "<style scoped>\n",
       "    .dataframe tbody tr th:only-of-type {\n",
       "        vertical-align: middle;\n",
       "    }\n",
       "\n",
       "    .dataframe tbody tr th {\n",
       "        vertical-align: top;\n",
       "    }\n",
       "\n",
       "    .dataframe thead th {\n",
       "        text-align: right;\n",
       "    }\n",
       "</style>\n",
       "<table border=\"1\" class=\"dataframe\">\n",
       "  <thead>\n",
       "    <tr style=\"text-align: right;\">\n",
       "      <th></th>\n",
       "      <th>Country</th>\n",
       "      <th>Year</th>\n",
       "      <th>Internet_Users_Pct</th>\n",
       "      <th>Continent</th>\n",
       "      <th>GDP_per_Capita</th>\n",
       "      <th>Subgroup</th>\n",
       "      <th>AIDS_know_perc</th>\n",
       "    </tr>\n",
       "  </thead>\n",
       "  <tbody>\n",
       "    <tr>\n",
       "      <th>0</th>\n",
       "      <td>Albania</td>\n",
       "      <td>2005</td>\n",
       "      <td>6.043891</td>\n",
       "      <td>Europe</td>\n",
       "      <td>8066.557445</td>\n",
       "      <td>Female 15-24 yr</td>\n",
       "      <td>5.6</td>\n",
       "    </tr>\n",
       "    <tr>\n",
       "      <th>1</th>\n",
       "      <td>Algeria</td>\n",
       "      <td>2006</td>\n",
       "      <td>7.375985</td>\n",
       "      <td>Africa</td>\n",
       "      <td>10527.423643</td>\n",
       "      <td>Female 15-24 yr</td>\n",
       "      <td>13.1</td>\n",
       "    </tr>\n",
       "    <tr>\n",
       "      <th>2</th>\n",
       "      <td>Armenia</td>\n",
       "      <td>2005</td>\n",
       "      <td>5.252983</td>\n",
       "      <td>Europe</td>\n",
       "      <td>7419.853768</td>\n",
       "      <td>Female 15-24 yr</td>\n",
       "      <td>22.6</td>\n",
       "    </tr>\n",
       "    <tr>\n",
       "      <th>3</th>\n",
       "      <td>Armenia</td>\n",
       "      <td>2005</td>\n",
       "      <td>5.252983</td>\n",
       "      <td>Europe</td>\n",
       "      <td>7419.853768</td>\n",
       "      <td>Male 15-24 yr</td>\n",
       "      <td>15.1</td>\n",
       "    </tr>\n",
       "    <tr>\n",
       "      <th>4</th>\n",
       "      <td>Armenia</td>\n",
       "      <td>2000</td>\n",
       "      <td>1.300470</td>\n",
       "      <td>Europe</td>\n",
       "      <td>4048.257817</td>\n",
       "      <td>Male 15-24 yr</td>\n",
       "      <td>8.0</td>\n",
       "    </tr>\n",
       "  </tbody>\n",
       "</table>\n",
       "</div>"
      ],
      "text/plain": [
       "   Country  Year  Internet_Users_Pct Continent  GDP_per_Capita  \\\n",
       "0  Albania  2005            6.043891    Europe     8066.557445   \n",
       "1  Algeria  2006            7.375985    Africa    10527.423643   \n",
       "2  Armenia  2005            5.252983    Europe     7419.853768   \n",
       "3  Armenia  2005            5.252983    Europe     7419.853768   \n",
       "4  Armenia  2000            1.300470    Europe     4048.257817   \n",
       "\n",
       "          Subgroup  AIDS_know_perc  \n",
       "0  Female 15-24 yr             5.6  \n",
       "1  Female 15-24 yr            13.1  \n",
       "2  Female 15-24 yr            22.6  \n",
       "3    Male 15-24 yr            15.1  \n",
       "4    Male 15-24 yr             8.0  "
      ]
     },
     "execution_count": 63,
     "metadata": {},
     "output_type": "execute_result"
    }
   ],
   "source": [
    "gdp_internet_use_HIV_know = pd.merge(left = gdp_and_internet_use,\n",
    "                 right = HIV_knowledge,\n",
    "                 on = ('Country','Year'));\n",
    "gdp_internet_use_HIV_know.head(5)"
   ]
  },
  {
   "cell_type": "code",
   "execution_count": 73,
   "id": "868084bb",
   "metadata": {},
   "outputs": [
    {
     "data": {
      "text/plain": [
       "2006"
      ]
     },
     "execution_count": 73,
     "metadata": {},
     "output_type": "execute_result"
    }
   ],
   "source": [
    "gdp_internet_use_HIV_know[\"Year\"].max()"
   ]
  },
  {
   "cell_type": "code",
   "execution_count": 74,
   "id": "541d196a",
   "metadata": {},
   "outputs": [
    {
     "data": {
      "text/plain": [
       "1996"
      ]
     },
     "execution_count": 74,
     "metadata": {},
     "output_type": "execute_result"
    }
   ],
   "source": [
    "gdp_internet_use_HIV_know[\"Year\"].min()"
   ]
  },
  {
   "cell_type": "code",
   "execution_count": 65,
   "id": "c3223252",
   "metadata": {},
   "outputs": [
    {
     "name": "stdout",
     "output_type": "stream",
     "text": [
      "<class 'pandas.core.frame.DataFrame'>\n",
      "Int64Index: 107 entries, 0 to 106\n",
      "Data columns (total 7 columns):\n",
      " #   Column              Non-Null Count  Dtype  \n",
      "---  ------              --------------  -----  \n",
      " 0   Country             107 non-null    object \n",
      " 1   Year                107 non-null    int64  \n",
      " 2   Internet_Users_Pct  107 non-null    float64\n",
      " 3   Continent           107 non-null    object \n",
      " 4   GDP_per_Capita      107 non-null    float64\n",
      " 5   Subgroup            107 non-null    object \n",
      " 6   AIDS_know_perc      107 non-null    float64\n",
      "dtypes: float64(3), int64(1), object(3)\n",
      "memory usage: 6.7+ KB\n"
     ]
    }
   ],
   "source": [
    "gdp_internet_use_HIV_know.info()"
   ]
  },
  {
   "cell_type": "code",
   "execution_count": 66,
   "id": "ed8f7e30",
   "metadata": {},
   "outputs": [
    {
     "data": {
      "text/html": [
       "<div>\n",
       "<style scoped>\n",
       "    .dataframe tbody tr th:only-of-type {\n",
       "        vertical-align: middle;\n",
       "    }\n",
       "\n",
       "    .dataframe tbody tr th {\n",
       "        vertical-align: top;\n",
       "    }\n",
       "\n",
       "    .dataframe thead th {\n",
       "        text-align: right;\n",
       "    }\n",
       "</style>\n",
       "<table border=\"1\" class=\"dataframe\">\n",
       "  <thead>\n",
       "    <tr style=\"text-align: right;\">\n",
       "      <th></th>\n",
       "      <th>Year</th>\n",
       "      <th>Internet_Users_Pct</th>\n",
       "      <th>GDP_per_Capita</th>\n",
       "      <th>AIDS_know_perc</th>\n",
       "    </tr>\n",
       "  </thead>\n",
       "  <tbody>\n",
       "    <tr>\n",
       "      <th>Year</th>\n",
       "      <td>1.000000</td>\n",
       "      <td>0.336054</td>\n",
       "      <td>0.091552</td>\n",
       "      <td>0.182986</td>\n",
       "    </tr>\n",
       "    <tr>\n",
       "      <th>Internet_Users_Pct</th>\n",
       "      <td>0.336054</td>\n",
       "      <td>1.000000</td>\n",
       "      <td>0.730689</td>\n",
       "      <td>0.283430</td>\n",
       "    </tr>\n",
       "    <tr>\n",
       "      <th>GDP_per_Capita</th>\n",
       "      <td>0.091552</td>\n",
       "      <td>0.730689</td>\n",
       "      <td>1.000000</td>\n",
       "      <td>0.057386</td>\n",
       "    </tr>\n",
       "    <tr>\n",
       "      <th>AIDS_know_perc</th>\n",
       "      <td>0.182986</td>\n",
       "      <td>0.283430</td>\n",
       "      <td>0.057386</td>\n",
       "      <td>1.000000</td>\n",
       "    </tr>\n",
       "  </tbody>\n",
       "</table>\n",
       "</div>"
      ],
      "text/plain": [
       "                        Year  Internet_Users_Pct  GDP_per_Capita  \\\n",
       "Year                1.000000            0.336054        0.091552   \n",
       "Internet_Users_Pct  0.336054            1.000000        0.730689   \n",
       "GDP_per_Capita      0.091552            0.730689        1.000000   \n",
       "AIDS_know_perc      0.182986            0.283430        0.057386   \n",
       "\n",
       "                    AIDS_know_perc  \n",
       "Year                      0.182986  \n",
       "Internet_Users_Pct        0.283430  \n",
       "GDP_per_Capita            0.057386  \n",
       "AIDS_know_perc            1.000000  "
      ]
     },
     "execution_count": 66,
     "metadata": {},
     "output_type": "execute_result"
    }
   ],
   "source": [
    "gdp_internet_use_HIV_know.corr()"
   ]
  },
  {
   "cell_type": "code",
   "execution_count": 64,
   "id": "78cfa540",
   "metadata": {},
   "outputs": [
    {
     "data": {
      "image/png": "[encoded data removed]",
      "text/plain": [
       "<Figure size 432x288 with 1 Axes>"
      ]
     },
     "metadata": {
      "needs_background": "light"
     },
     "output_type": "display_data"
    }
   ],
   "source": [
    "sns.scatterplot(data = gdp_internet_use_HIV_know,\n",
    "                               x= \"Year\",\n",
    "                               y= \"AIDS_know_perc\",hue = \"Subgroup\",);\n",
    "#add subgroup to see if we can pull anything out from differences between male and female. "
   ]
  },
  {
   "cell_type": "code",
   "execution_count": 67,
   "id": "7b41b231",
   "metadata": {},
   "outputs": [
    {
     "data": {
      "image/png": "[encoded data removed]",
      "text/plain": [
       "<Figure size 432x288 with 1 Axes>"
      ]
     },
     "metadata": {
      "needs_background": "light"
     },
     "output_type": "display_data"
    }
   ],
   "source": [
    "sns.scatterplot(data = gdp_internet_use_HIV_know, y = \"Internet_Users_Pct\", x = \"AIDS_know_perc\",hue = \"Subgroup\");"
   ]
  },
  {
   "cell_type": "code",
   "execution_count": 68,
   "id": "08a99c47",
   "metadata": {},
   "outputs": [],
   "source": [
    "from ipywidgets import interact, IntSlider"
   ]
  },
  {
   "cell_type": "code",
   "execution_count": 86,
   "id": "e65cd764",
   "metadata": {
    "scrolled": false
   },
   "outputs": [
    {
     "ename": "SyntaxError",
     "evalue": "invalid syntax (<ipython-input-86-e0c3132f3de7>, line 5)",
     "output_type": "error",
     "traceback": [
      "\u001b[0;36m  File \u001b[0;32m\"<ipython-input-86-e0c3132f3de7>\"\u001b[0;36m, line \u001b[0;32m5\u001b[0m\n\u001b[0;31m    HIV_know_Slider = gdp_internet_use_HIV_know.groupby(\"Year\")[\"Internet_Users_Pct\"].plot(kind = \"scatter\",\u001b[0m\n\u001b[0m    ^\u001b[0m\n\u001b[0;31mSyntaxError\u001b[0m\u001b[0;31m:\u001b[0m invalid syntax\n"
     ]
    }
   ],
   "source": [
    "@interact(Year = IntSlider(\n",
    "    options = ['1996','1999','2000','2001','2002','2003','2004','2005','2006'],\n",
    "    value = \"Year\")\n",
    "\n",
    "HIV_know_Slider = gdp_internet_use_HIV_know.groupby(\"Year\")[\"Internet_Users_Pct\"].plot(kind = \"scatter\",\n",
    "                                                                                     x = \"AIDS_know_perc\",\n",
    "                                                                                     y = \"Internet_Users_Pct\",)#try to put a float slider on this for Year"
   ]
  },
  {
   "cell_type": "markdown",
   "id": "27971e2b",
   "metadata": {},
   "source": [
    "Figure out relationship between high internet users percent and high AIDS knowledge. \n"
   ]
  },
  {
   "cell_type": "code",
   "execution_count": null,
   "id": "5a4b2e32",
   "metadata": {},
   "outputs": [],
   "source": [
    "gdp_and_internet_use.head()"
   ]
  },
  {
   "cell_type": "code",
   "execution_count": null,
   "id": "66e078d6",
   "metadata": {},
   "outputs": [],
   "source": [
    "gdp_internet_use_HIV_know"
   ]
  },
  {
   "cell_type": "code",
   "execution_count": null,
   "id": "a617f34d",
   "metadata": {},
   "outputs": [],
   "source": []
  }
 ],
 "metadata": {
  "kernelspec": {
   "display_name": "Python 3",
   "language": "python",
   "name": "python3"
  },
  "language_info": {
   "codemirror_mode": {
    "name": "ipython",
    "version": 3
   },
   "file_extension": ".py",
   "mimetype": "text/x-python",
   "name": "python",
   "nbconvert_exporter": "python",
   "pygments_lexer": "ipython3",
   "version": "3.8.8"
  }
 },
 "nbformat": 4,
 "nbformat_minor": 5
}
