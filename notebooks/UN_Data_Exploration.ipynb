{
 "cells": [
  {
   "cell_type": "code",
   "execution_count": 1,
   "id": "792d6f5d",
   "metadata": {},
   "outputs": [],
   "source": [
    "import pandas as pd\n",
    "import numpy as np  \n",
    "import matplotlib.pyplot as plt\n",
    "import seaborn as sns\n",
    "%matplotlib inline"
   ]
  },
  {
   "cell_type": "code",
   "execution_count": 2,
   "id": "62002a94",
   "metadata": {},
   "outputs": [
    {
     "name": "stderr",
     "output_type": "stream",
     "text": [
      "<ipython-input-2-ef274f2e1c61>:1: ParserWarning: Falling back to the 'python' engine because the 'c' engine does not support skipfooter; you can avoid this warning by specifying engine='python'.\n",
      "  gdp_df = pd.read_csv('../data/gdp_per_capita.csv', skipfooter=2)\n"
     ]
    }
   ],
   "source": [
    "gdp_df = pd.read_csv('../data/gdp_per_capita.csv', skipfooter=2)"
   ]
  },
  {
   "cell_type": "markdown",
   "id": "670df562",
   "metadata": {},
   "source": [
    "5. Added skipfooter = 2 to avoid the last two rows of the datafram which had some footer data pertaining to the data exluded for South Sudan"
   ]
  },
  {
   "cell_type": "code",
   "execution_count": 3,
   "id": "9511c707",
   "metadata": {},
   "outputs": [
    {
     "data": {
      "text/html": [
       "<div>\n",
       "<style scoped>\n",
       "    .dataframe tbody tr th:only-of-type {\n",
       "        vertical-align: middle;\n",
       "    }\n",
       "\n",
       "    .dataframe tbody tr th {\n",
       "        vertical-align: top;\n",
       "    }\n",
       "\n",
       "    .dataframe thead th {\n",
       "        text-align: right;\n",
       "    }\n",
       "</style>\n",
       "<table border=\"1\" class=\"dataframe\">\n",
       "  <thead>\n",
       "    <tr style=\"text-align: right;\">\n",
       "      <th></th>\n",
       "      <th>Country or Area</th>\n",
       "      <th>Year</th>\n",
       "      <th>Value</th>\n",
       "      <th>Value Footnotes</th>\n",
       "    </tr>\n",
       "  </thead>\n",
       "  <tbody>\n",
       "    <tr>\n",
       "      <th>0</th>\n",
       "      <td>Afghanistan</td>\n",
       "      <td>2019</td>\n",
       "      <td>2065.036398</td>\n",
       "      <td>NaN</td>\n",
       "    </tr>\n",
       "    <tr>\n",
       "      <th>1</th>\n",
       "      <td>Afghanistan</td>\n",
       "      <td>2018</td>\n",
       "      <td>2033.779002</td>\n",
       "      <td>NaN</td>\n",
       "    </tr>\n",
       "    <tr>\n",
       "      <th>2</th>\n",
       "      <td>Afghanistan</td>\n",
       "      <td>2017</td>\n",
       "      <td>2058.383832</td>\n",
       "      <td>NaN</td>\n",
       "    </tr>\n",
       "    <tr>\n",
       "      <th>3</th>\n",
       "      <td>Afghanistan</td>\n",
       "      <td>2016</td>\n",
       "      <td>2057.062164</td>\n",
       "      <td>NaN</td>\n",
       "    </tr>\n",
       "    <tr>\n",
       "      <th>4</th>\n",
       "      <td>Afghanistan</td>\n",
       "      <td>2015</td>\n",
       "      <td>2068.265904</td>\n",
       "      <td>NaN</td>\n",
       "    </tr>\n",
       "    <tr>\n",
       "      <th>5</th>\n",
       "      <td>Afghanistan</td>\n",
       "      <td>2014</td>\n",
       "      <td>2102.385234</td>\n",
       "      <td>NaN</td>\n",
       "    </tr>\n",
       "    <tr>\n",
       "      <th>6</th>\n",
       "      <td>Afghanistan</td>\n",
       "      <td>2013</td>\n",
       "      <td>2116.465454</td>\n",
       "      <td>NaN</td>\n",
       "    </tr>\n",
       "    <tr>\n",
       "      <th>7</th>\n",
       "      <td>Afghanistan</td>\n",
       "      <td>2012</td>\n",
       "      <td>2075.491747</td>\n",
       "      <td>NaN</td>\n",
       "    </tr>\n",
       "    <tr>\n",
       "      <th>8</th>\n",
       "      <td>Afghanistan</td>\n",
       "      <td>2011</td>\n",
       "      <td>1904.559799</td>\n",
       "      <td>NaN</td>\n",
       "    </tr>\n",
       "    <tr>\n",
       "      <th>9</th>\n",
       "      <td>Afghanistan</td>\n",
       "      <td>2010</td>\n",
       "      <td>1957.029338</td>\n",
       "      <td>NaN</td>\n",
       "    </tr>\n",
       "  </tbody>\n",
       "</table>\n",
       "</div>"
      ],
      "text/plain": [
       "  Country or Area  Year        Value  Value Footnotes\n",
       "0     Afghanistan  2019  2065.036398              NaN\n",
       "1     Afghanistan  2018  2033.779002              NaN\n",
       "2     Afghanistan  2017  2058.383832              NaN\n",
       "3     Afghanistan  2016  2057.062164              NaN\n",
       "4     Afghanistan  2015  2068.265904              NaN\n",
       "5     Afghanistan  2014  2102.385234              NaN\n",
       "6     Afghanistan  2013  2116.465454              NaN\n",
       "7     Afghanistan  2012  2075.491747              NaN\n",
       "8     Afghanistan  2011  1904.559799              NaN\n",
       "9     Afghanistan  2010  1957.029338              NaN"
      ]
     },
     "execution_count": 3,
     "metadata": {},
     "output_type": "execute_result"
    }
   ],
   "source": [
    "gdp_df.head(10)"
   ]
  },
  {
   "cell_type": "code",
   "execution_count": 4,
   "id": "683b1f0e",
   "metadata": {},
   "outputs": [
    {
     "data": {
      "text/html": [
       "<div>\n",
       "<style scoped>\n",
       "    .dataframe tbody tr th:only-of-type {\n",
       "        vertical-align: middle;\n",
       "    }\n",
       "\n",
       "    .dataframe tbody tr th {\n",
       "        vertical-align: top;\n",
       "    }\n",
       "\n",
       "    .dataframe thead th {\n",
       "        text-align: right;\n",
       "    }\n",
       "</style>\n",
       "<table border=\"1\" class=\"dataframe\">\n",
       "  <thead>\n",
       "    <tr style=\"text-align: right;\">\n",
       "      <th></th>\n",
       "      <th>Country or Area</th>\n",
       "      <th>Year</th>\n",
       "      <th>Value</th>\n",
       "      <th>Value Footnotes</th>\n",
       "    </tr>\n",
       "  </thead>\n",
       "  <tbody>\n",
       "    <tr>\n",
       "      <th>6863</th>\n",
       "      <td>Zimbabwe</td>\n",
       "      <td>1994</td>\n",
       "      <td>3263.934978</td>\n",
       "      <td>NaN</td>\n",
       "    </tr>\n",
       "    <tr>\n",
       "      <th>6864</th>\n",
       "      <td>Zimbabwe</td>\n",
       "      <td>1993</td>\n",
       "      <td>3033.504852</td>\n",
       "      <td>NaN</td>\n",
       "    </tr>\n",
       "    <tr>\n",
       "      <th>6865</th>\n",
       "      <td>Zimbabwe</td>\n",
       "      <td>1992</td>\n",
       "      <td>3054.889178</td>\n",
       "      <td>NaN</td>\n",
       "    </tr>\n",
       "    <tr>\n",
       "      <th>6866</th>\n",
       "      <td>Zimbabwe</td>\n",
       "      <td>1991</td>\n",
       "      <td>3426.598094</td>\n",
       "      <td>NaN</td>\n",
       "    </tr>\n",
       "    <tr>\n",
       "      <th>6867</th>\n",
       "      <td>Zimbabwe</td>\n",
       "      <td>1990</td>\n",
       "      <td>3324.348171</td>\n",
       "      <td>NaN</td>\n",
       "    </tr>\n",
       "  </tbody>\n",
       "</table>\n",
       "</div>"
      ],
      "text/plain": [
       "     Country or Area  Year        Value  Value Footnotes\n",
       "6863        Zimbabwe  1994  3263.934978              NaN\n",
       "6864        Zimbabwe  1993  3033.504852              NaN\n",
       "6865        Zimbabwe  1992  3054.889178              NaN\n",
       "6866        Zimbabwe  1991  3426.598094              NaN\n",
       "6867        Zimbabwe  1990  3324.348171              NaN"
      ]
     },
     "execution_count": 4,
     "metadata": {},
     "output_type": "execute_result"
    }
   ],
   "source": [
    "gdp_df[-5:]"
   ]
  },
  {
   "cell_type": "code",
   "execution_count": 5,
   "id": "53558cf1",
   "metadata": {},
   "outputs": [],
   "source": [
    "gdp_df = gdp_df.drop(columns = \"Value Footnotes\")"
   ]
  },
  {
   "cell_type": "code",
   "execution_count": 6,
   "id": "320402ff",
   "metadata": {},
   "outputs": [],
   "source": [
    "gdp_df = gdp_df.rename(columns={\"Country or Area\": \"Country\", \"Value\": \"GDP_per_Capita\"})"
   ]
  },
  {
   "cell_type": "markdown",
   "id": "c63dfcb2",
   "metadata": {},
   "source": [
    "7. Rows = 3, Columns 6867\n",
    "\n",
    "Country is an object, Year is a interger, GDP_per_Capita is a float"
   ]
  },
  {
   "cell_type": "code",
   "execution_count": 7,
   "id": "93729e2d",
   "metadata": {},
   "outputs": [
    {
     "name": "stdout",
     "output_type": "stream",
     "text": [
      "<class 'pandas.core.frame.DataFrame'>\n",
      "RangeIndex: 6868 entries, 0 to 6867\n",
      "Data columns (total 3 columns):\n",
      " #   Column          Non-Null Count  Dtype  \n",
      "---  ------          --------------  -----  \n",
      " 0   Country         6868 non-null   object \n",
      " 1   Year            6868 non-null   int64  \n",
      " 2   GDP_per_Capita  6868 non-null   float64\n",
      "dtypes: float64(1), int64(1), object(1)\n",
      "memory usage: 161.1+ KB\n"
     ]
    }
   ],
   "source": [
    "gdp_df.info()"
   ]
  },
  {
   "cell_type": "code",
   "execution_count": 8,
   "id": "3a52f050",
   "metadata": {},
   "outputs": [
    {
     "name": "stdout",
     "output_type": "stream",
     "text": [
      "1990\n",
      "2019\n"
     ]
    }
   ],
   "source": [
    "print(gdp_df[\"Year\"].min())\n",
    "\n",
    "print(gdp_df[\"Year\"].max())"
   ]
  },
  {
   "cell_type": "code",
   "execution_count": 9,
   "id": "e7969f1a",
   "metadata": {},
   "outputs": [
    {
     "data": {
      "text/plain": [
       "2013    238\n",
       "2014    238\n",
       "2016    238\n",
       "2015    238\n",
       "2017    238\n",
       "2012    237\n",
       "2018    237\n",
       "2011    237\n",
       "2009    236\n",
       "2010    236\n",
       "2007    235\n",
       "2008    235\n",
       "2006    235\n",
       "2004    234\n",
       "2005    234\n",
       "2002    233\n",
       "2003    233\n",
       "2001    232\n",
       "2019    231\n",
       "2000    231\n",
       "1999    224\n",
       "1998    223\n",
       "1997    223\n",
       "1996    221\n",
       "1995    221\n",
       "1994    214\n",
       "1993    212\n",
       "1992    209\n",
       "1991    208\n",
       "1990    207\n",
       "Name: Year, dtype: int64"
      ]
     },
     "execution_count": 9,
     "metadata": {},
     "output_type": "execute_result"
    }
   ],
   "source": [
    "gdp_df[\"Year\"].value_counts(sort = True)"
   ]
  },
  {
   "cell_type": "markdown",
   "id": "b0945a73",
   "metadata": {},
   "source": [
    "8. the number of observations increases from 1990 with 207 observations  until 2017 with 238. 2018 and 2019 decreased slightly with 237 and 231 observations, respectively. "
   ]
  },
  {
   "cell_type": "code",
   "execution_count": 10,
   "id": "94237acb",
   "metadata": {},
   "outputs": [
    {
     "name": "stdout",
     "output_type": "stream",
     "text": [
      "                  Country  Year  GDP_per_Capita\n",
      "0             Afghanistan  2019     2065.036398\n",
      "18                Albania  2019    13724.058790\n",
      "48                Algeria  2019    11510.557088\n",
      "78                 Angola  2019     6670.332297\n",
      "108   Antigua and Barbuda  2019    21910.184985\n",
      "...                   ...   ...             ...\n",
      "6722              Vietnam  2019     8041.178551\n",
      "6752   West Bank and Gaza  2019     6219.960291\n",
      "6778                World  2019    16911.193295\n",
      "6808               Zambia  2019     3470.448801\n",
      "6838             Zimbabwe  2019     2835.948532\n",
      "\n",
      "[238 rows x 3 columns]\n"
     ]
    }
   ],
   "source": [
    "countries_of_gdp_df = gdp_df.drop_duplicates(subset=\"Country\")\n",
    "print(countries_of_gdp_df)"
   ]
  },
  {
   "cell_type": "markdown",
   "id": "11c8441b",
   "metadata": {},
   "source": [
    "9. 238 Countries are in the data set. Djibouti is represented the least. Several countries have 30 observations which is the most observations. They have fewer observations because they are small island countries or just small countries by land mass. "
   ]
  },
  {
   "cell_type": "code",
   "execution_count": 11,
   "id": "3d67286d",
   "metadata": {},
   "outputs": [
    {
     "data": {
      "text/plain": [
       "Argentina                    30\n",
       "Guinea-Bissau                30\n",
       "Indonesia                    30\n",
       "Jamaica                      30\n",
       "Jordan                       30\n",
       "                             ..\n",
       "Nauru                        16\n",
       "Cayman Islands               13\n",
       "Sint Maarten (Dutch part)    10\n",
       "Turks and Caicos Islands      9\n",
       "Djibouti                      7\n",
       "Name: Country, Length: 238, dtype: int64"
      ]
     },
     "execution_count": 11,
     "metadata": {},
     "output_type": "execute_result"
    }
   ],
   "source": [
    "gdp_df[\"Country\"].value_counts(sort = True)"
   ]
  },
  {
   "cell_type": "code",
   "execution_count": 12,
   "id": "e5c9c8cb",
   "metadata": {},
   "outputs": [],
   "source": [
    "gdp_2014 = gdp_df.loc[gdp_df['Year'] == 2014]"
   ]
  },
  {
   "cell_type": "code",
   "execution_count": 13,
   "id": "fccba7b3",
   "metadata": {},
   "outputs": [
    {
     "data": {
      "text/html": [
       "<div>\n",
       "<style scoped>\n",
       "    .dataframe tbody tr th:only-of-type {\n",
       "        vertical-align: middle;\n",
       "    }\n",
       "\n",
       "    .dataframe tbody tr th {\n",
       "        vertical-align: top;\n",
       "    }\n",
       "\n",
       "    .dataframe thead th {\n",
       "        text-align: right;\n",
       "    }\n",
       "</style>\n",
       "<table border=\"1\" class=\"dataframe\">\n",
       "  <thead>\n",
       "    <tr style=\"text-align: right;\">\n",
       "      <th></th>\n",
       "      <th>Year</th>\n",
       "      <th>GDP_per_Capita</th>\n",
       "    </tr>\n",
       "  </thead>\n",
       "  <tbody>\n",
       "    <tr>\n",
       "      <th>count</th>\n",
       "      <td>238.0</td>\n",
       "      <td>238.000000</td>\n",
       "    </tr>\n",
       "    <tr>\n",
       "      <th>mean</th>\n",
       "      <td>2014.0</td>\n",
       "      <td>19766.710348</td>\n",
       "    </tr>\n",
       "    <tr>\n",
       "      <th>std</th>\n",
       "      <td>0.0</td>\n",
       "      <td>20983.869623</td>\n",
       "    </tr>\n",
       "    <tr>\n",
       "      <th>min</th>\n",
       "      <td>2014.0</td>\n",
       "      <td>822.610458</td>\n",
       "    </tr>\n",
       "    <tr>\n",
       "      <th>25%</th>\n",
       "      <td>2014.0</td>\n",
       "      <td>4753.110934</td>\n",
       "    </tr>\n",
       "    <tr>\n",
       "      <th>50%</th>\n",
       "      <td>2014.0</td>\n",
       "      <td>12209.385755</td>\n",
       "    </tr>\n",
       "    <tr>\n",
       "      <th>75%</th>\n",
       "      <td>2014.0</td>\n",
       "      <td>26803.610474</td>\n",
       "    </tr>\n",
       "    <tr>\n",
       "      <th>max</th>\n",
       "      <td>2014.0</td>\n",
       "      <td>156514.133850</td>\n",
       "    </tr>\n",
       "  </tbody>\n",
       "</table>\n",
       "</div>"
      ],
      "text/plain": [
       "         Year  GDP_per_Capita\n",
       "count   238.0      238.000000\n",
       "mean   2014.0    19766.710348\n",
       "std       0.0    20983.869623\n",
       "min    2014.0      822.610458\n",
       "25%    2014.0     4753.110934\n",
       "50%    2014.0    12209.385755\n",
       "75%    2014.0    26803.610474\n",
       "max    2014.0   156514.133850"
      ]
     },
     "execution_count": 13,
     "metadata": {},
     "output_type": "execute_result"
    }
   ],
   "source": [
    "gdp_2014.describe()"
   ]
  },
  {
   "cell_type": "code",
   "execution_count": 14,
   "id": "6067935a",
   "metadata": {},
   "outputs": [
    {
     "data": {
      "image/png": "[encoded data removed]",
      "text/plain": [
       "<Figure size 432x288 with 1 Axes>"
      ]
     },
     "metadata": {
      "needs_background": "light"
     },
     "output_type": "display_data"
    }
   ],
   "source": [
    "plt.hist(gdp_2014[\"GDP_per_Capita\"], bins = 10)\n",
    "plt.show;"
   ]
  },
  {
   "cell_type": "markdown",
   "id": "2345a604",
   "metadata": {},
   "source": [
    "12. Histogram description: Right skewed unimodal. "
   ]
  },
  {
   "cell_type": "code",
   "execution_count": 15,
   "id": "83565c75",
   "metadata": {},
   "outputs": [
    {
     "name": "stdout",
     "output_type": "stream",
     "text": [
      "                  Country  Year  GDP_per_Capita\n",
      "5             Afghanistan  2014     2102.385234\n",
      "23                Albania  2014    11623.866679\n",
      "53                Algeria  2014    11512.705405\n",
      "83                 Angola  2014     8239.828837\n",
      "113   Antigua and Barbuda  2014    18104.241470\n",
      "...                   ...   ...             ...\n",
      "6727              Vietnam  2014     6098.489609\n",
      "6757   West Bank and Gaza  2014     5967.073437\n",
      "6783                World  2014    15189.648507\n",
      "6813               Zambia  2014     3450.046561\n",
      "6843             Zimbabwe  2014     2955.240287\n",
      "\n",
      "[238 rows x 3 columns]\n"
     ]
    }
   ],
   "source": [
    "countries_of_gdp_2014_srt = gdp_2014.drop_duplicates(subset=\"Country\")\n",
    "print(countries_of_gdp_2014_srt)"
   ]
  },
  {
   "cell_type": "code",
   "execution_count": 16,
   "id": "b3a2935a",
   "metadata": {},
   "outputs": [
    {
     "data": {
      "text/html": [
       "<div>\n",
       "<style scoped>\n",
       "    .dataframe tbody tr th:only-of-type {\n",
       "        vertical-align: middle;\n",
       "    }\n",
       "\n",
       "    .dataframe tbody tr th {\n",
       "        vertical-align: top;\n",
       "    }\n",
       "\n",
       "    .dataframe thead th {\n",
       "        text-align: right;\n",
       "    }\n",
       "</style>\n",
       "<table border=\"1\" class=\"dataframe\">\n",
       "  <thead>\n",
       "    <tr style=\"text-align: right;\">\n",
       "      <th></th>\n",
       "      <th>Country</th>\n",
       "      <th>Year</th>\n",
       "      <th>GDP_per_Capita</th>\n",
       "    </tr>\n",
       "  </thead>\n",
       "  <tbody>\n",
       "    <tr>\n",
       "      <th>1047</th>\n",
       "      <td>Central African Republic</td>\n",
       "      <td>2014</td>\n",
       "      <td>822.610458</td>\n",
       "    </tr>\n",
       "    <tr>\n",
       "      <th>827</th>\n",
       "      <td>Burundi</td>\n",
       "      <td>2014</td>\n",
       "      <td>886.235777</td>\n",
       "    </tr>\n",
       "    <tr>\n",
       "      <th>3781</th>\n",
       "      <td>Malawi</td>\n",
       "      <td>2014</td>\n",
       "      <td>1027.208496</td>\n",
       "    </tr>\n",
       "    <tr>\n",
       "      <th>1422</th>\n",
       "      <td>Dem. Rep. Congo</td>\n",
       "      <td>2014</td>\n",
       "      <td>1029.790785</td>\n",
       "    </tr>\n",
       "    <tr>\n",
       "      <th>4528</th>\n",
       "      <td>Niger</td>\n",
       "      <td>2014</td>\n",
       "      <td>1127.615541</td>\n",
       "    </tr>\n",
       "    <tr>\n",
       "      <th>...</th>\n",
       "      <td>...</td>\n",
       "      <td>...</td>\n",
       "      <td>...</td>\n",
       "    </tr>\n",
       "    <tr>\n",
       "      <th>561</th>\n",
       "      <td>Bermuda</td>\n",
       "      <td>2014</td>\n",
       "      <td>77361.104881</td>\n",
       "    </tr>\n",
       "    <tr>\n",
       "      <th>5464</th>\n",
       "      <td>Singapore</td>\n",
       "      <td>2014</td>\n",
       "      <td>87808.663157</td>\n",
       "    </tr>\n",
       "    <tr>\n",
       "      <th>5138</th>\n",
       "      <td>Qatar</td>\n",
       "      <td>2014</td>\n",
       "      <td>95578.416973</td>\n",
       "    </tr>\n",
       "    <tr>\n",
       "      <th>3691</th>\n",
       "      <td>Luxembourg</td>\n",
       "      <td>2014</td>\n",
       "      <td>108760.916030</td>\n",
       "    </tr>\n",
       "    <tr>\n",
       "      <th>3721</th>\n",
       "      <td>Macao SAR, China</td>\n",
       "      <td>2014</td>\n",
       "      <td>156514.133850</td>\n",
       "    </tr>\n",
       "  </tbody>\n",
       "</table>\n",
       "<p>238 rows × 3 columns</p>\n",
       "</div>"
      ],
      "text/plain": [
       "                       Country  Year  GDP_per_Capita\n",
       "1047  Central African Republic  2014      822.610458\n",
       "827                    Burundi  2014      886.235777\n",
       "3781                    Malawi  2014     1027.208496\n",
       "1422           Dem. Rep. Congo  2014     1029.790785\n",
       "4528                     Niger  2014     1127.615541\n",
       "...                        ...   ...             ...\n",
       "561                    Bermuda  2014    77361.104881\n",
       "5464                 Singapore  2014    87808.663157\n",
       "5138                     Qatar  2014    95578.416973\n",
       "3691                Luxembourg  2014   108760.916030\n",
       "3721          Macao SAR, China  2014   156514.133850\n",
       "\n",
       "[238 rows x 3 columns]"
      ]
     },
     "execution_count": 16,
     "metadata": {},
     "output_type": "execute_result"
    }
   ],
   "source": [
    "countries_of_gdp_2014_srt.sort_values(\"GDP_per_Capita\")"
   ]
  },
  {
   "cell_type": "markdown",
   "id": "e9be50fd",
   "metadata": {},
   "source": [
    "13. \n",
    "\n",
    "Top 5: Macao, Luxumbourg, Qatar, Singapore, Bermuda\n",
    "\n",
    "Bottom 5: Central African Republic, Burundi, Malawi, Dem Rep Congo, Niger."
   ]
  },
  {
   "cell_type": "code",
   "execution_count": 34,
   "id": "c02e26f2",
   "metadata": {
    "scrolled": true
   },
   "outputs": [
    {
     "name": "stdout",
     "output_type": "stream",
     "text": [
      "Year                         1990          1991          1992          1993  \\\n",
      "Country                                                                       \n",
      "Afghanistan                   NaN           NaN           NaN           NaN   \n",
      "Albania               4842.734635   3507.746654   3275.444336   3610.520633   \n",
      "Algeria               8746.352901   8431.385028   8383.770248   8027.376688   \n",
      "Angola                5783.429064   5649.782130   5148.252824   3788.508107   \n",
      "Antigua and Barbuda  15459.551675  15586.896172  15497.464744  15991.764201   \n",
      "...                           ...           ...           ...           ...   \n",
      "Vietnam               1673.249634   1736.014139   1847.620675   1957.644497   \n",
      "West Bank and Gaza            NaN           NaN           NaN           NaN   \n",
      "World                 9680.269697   9645.256163   9647.070526   9657.888486   \n",
      "Zambia                2190.182814   2133.689042   2045.973257   2133.263108   \n",
      "Zimbabwe              3324.348171   3426.598094   3054.889178   3033.504852   \n",
      "\n",
      "Year                         1994          1995          1996          1997  \\\n",
      "Country                                                                       \n",
      "Afghanistan                   NaN           NaN           NaN           NaN   \n",
      "Albania               3934.375728   4486.152092   4924.905836   4414.631173   \n",
      "Algeria               7792.085182   7935.179841   8116.962721   8074.759953   \n",
      "Angola                3717.366881   4139.640473   4551.651329   4728.157560   \n",
      "Antigua and Barbuda  16697.248772  15628.396992  16303.723892  16828.640823   \n",
      "...                           ...           ...           ...           ...   \n",
      "Vietnam               2091.599402   2252.633886   2425.526266   2587.055148   \n",
      "West Bank and Gaza    3951.205463   4047.128464   3916.925781   4294.746119   \n",
      "World                 9783.828893   9943.132889  10167.967706  10396.385330   \n",
      "Zambia                1902.393940   1908.699005   1974.616550   1994.849503   \n",
      "Zimbabwe              3263.934978   3226.413930   3520.430146   3580.048793   \n",
      "\n",
      "Year                         1998          1999  ...          2010  \\\n",
      "Country                                          ...                 \n",
      "Afghanistan                   NaN           NaN  ...   1957.029338   \n",
      "Albania               4834.778357   5492.654212  ...  10783.816180   \n",
      "Algeria               8360.150339   8506.345679  ...  10970.705149   \n",
      "Angola                4792.683851   4740.669833  ...   7692.434616   \n",
      "Antigua and Barbuda  17258.964856  17551.305968  ...  18205.985369   \n",
      "...                           ...           ...  ...           ...   \n",
      "Vietnam               2701.770578   2797.785536  ...   5089.411248   \n",
      "West Bank and Gaza    4786.480266   5052.064101  ...   5411.066482   \n",
      "World                10508.291266  10731.543649  ...  13904.629132   \n",
      "Zambia                1933.003375   1968.215803  ...   3125.529308   \n",
      "Zimbabwe              3653.920016   3600.849291  ...   2273.200073   \n",
      "\n",
      "Year                         2011          2012          2013          2014  \\\n",
      "Country                                                                       \n",
      "Afghanistan           1904.559799   2075.491747   2116.465454   2102.385234   \n",
      "Albania              11088.087801  11263.851342  11397.576226  11623.866679   \n",
      "Algeria              11078.240516  11233.534926  11319.097949  11512.705405   \n",
      "Angola                7675.445768   8036.690482   8140.527851   8239.828837   \n",
      "Antigua and Barbuda  17604.417102  17965.502327  17641.542533  18104.241470   \n",
      "...                           ...           ...           ...           ...   \n",
      "Vietnam               5352.011422   5574.458880   5815.118920   6098.489609   \n",
      "West Bank and Gaza    5782.689593   5985.683247   6118.257181   5967.073437   \n",
      "World                14275.461871  14554.850133  14857.762340  15189.648507   \n",
      "Zambia                3201.289398   3339.276135   3399.712999   3450.046561   \n",
      "Zimbabwe              2556.278431   2932.081336   2937.725624   2955.240287   \n",
      "\n",
      "Year                         2015          2016          2017          2018  \\\n",
      "Country                                                                       \n",
      "Afghanistan           2068.265904   2057.062164   2058.383832   2033.779002   \n",
      "Albania              11916.422315  12331.127754  12811.759436  13366.303065   \n",
      "Algeria              11696.963757  11826.164666  11737.409353  11642.194485   \n",
      "Angola                8036.410610   7568.997643   7310.901738   6933.505560   \n",
      "Antigua and Barbuda  18595.084904  19417.964819  19840.076123  21115.798269   \n",
      "...                           ...           ...           ...           ...   \n",
      "Vietnam               6438.260271   6767.902495   7155.745829   7586.384939   \n",
      "West Bank and Gaza    6048.976597   6438.933640   6401.740891   6318.210068   \n",
      "World                15516.986524  15837.382961  16253.385518  16636.415941   \n",
      "Zambia                3443.555206   3467.875156   3485.005238   3521.520144   \n",
      "Zimbabwe              2958.209004   2934.733650   3028.245976   3130.029501   \n",
      "\n",
      "Year                         2019  \n",
      "Country                            \n",
      "Afghanistan           2065.036398  \n",
      "Albania              13724.058790  \n",
      "Algeria              11510.557088  \n",
      "Angola                6670.332297  \n",
      "Antigua and Barbuda  21910.184985  \n",
      "...                           ...  \n",
      "Vietnam               8041.178551  \n",
      "West Bank and Gaza    6219.960291  \n",
      "World                16911.193295  \n",
      "Zambia                3470.448801  \n",
      "Zimbabwe              2835.948532  \n",
      "\n",
      "[238 rows x 30 columns]\n"
     ]
    }
   ],
   "source": [
    "gdp_pivoted = pd.pivot_table(gdp_df, \n",
    "                             values = \"GDP_per_Capita\" , \n",
    "                             columns = \"Year\", \n",
    "                             index = \"Country\");\n",
    "print(gdp_pivoted)"
   ]
  },
  {
   "cell_type": "code",
   "execution_count": 39,
   "id": "dd76d822",
   "metadata": {},
   "outputs": [],
   "source": [
    "gdp_pivoted = gdp_pivoted[[1990,2017]]"
   ]
  },
  {
   "cell_type": "code",
   "execution_count": 40,
   "id": "d47c8982",
   "metadata": {},
   "outputs": [
    {
     "name": "stdout",
     "output_type": "stream",
     "text": [
      "Year                         1990          2017\n",
      "Country                                        \n",
      "Afghanistan                   NaN   2058.383832\n",
      "Albania               4842.734635  12811.759436\n",
      "Algeria               8746.352901  11737.409353\n",
      "Angola                5783.429064   7310.901738\n",
      "Antigua and Barbuda  15459.551675  19840.076123\n",
      "...                           ...           ...\n",
      "Vietnam               1673.249634   7155.745829\n",
      "West Bank and Gaza            NaN   6401.740891\n",
      "World                 9680.269697  16253.385518\n",
      "Zambia                2190.182814   3485.005238\n",
      "Zimbabwe              3324.348171   3028.245976\n",
      "\n",
      "[238 rows x 2 columns]\n"
     ]
    }
   ],
   "source": [
    "print(gdp_pivoted)"
   ]
  },
  {
   "cell_type": "code",
   "execution_count": 42,
   "id": "090e0f6b",
   "metadata": {},
   "outputs": [],
   "source": [
    "gdp_pivoted = gdp_pivoted.dropna()"
   ]
  },
  {
   "cell_type": "code",
   "execution_count": 43,
   "id": "db0dd9fb",
   "metadata": {},
   "outputs": [
    {
     "name": "stdout",
     "output_type": "stream",
     "text": [
      "Year                         1990          2017\n",
      "Country                                        \n",
      "Albania               4842.734635  12811.759436\n",
      "Algeria               8746.352901  11737.409353\n",
      "Angola                5783.429064   7310.901738\n",
      "Antigua and Barbuda  15459.551675  19840.076123\n",
      "Arab World            9694.667544  14555.474921\n",
      "...                           ...           ...\n",
      "Vanuatu               2888.309393   3116.645194\n",
      "Vietnam               1673.249634   7155.745829\n",
      "World                 9680.269697  16253.385518\n",
      "Zambia                2190.182814   3485.005238\n",
      "Zimbabwe              3324.348171   3028.245976\n",
      "\n",
      "[207 rows x 2 columns]\n"
     ]
    }
   ],
   "source": [
    "print(gdp_pivoted)"
   ]
  },
  {
   "cell_type": "code",
   "execution_count": 48,
   "id": "63065951",
   "metadata": {},
   "outputs": [
    {
     "name": "stdout",
     "output_type": "stream",
     "text": [
      "Year                         1990          2017  Percent_Change\n",
      "Country                                                        \n",
      "Albania               4842.734635  12811.759436       62.200862\n",
      "Algeria               8746.352901  11737.409353       25.483106\n",
      "Angola                5783.429064   7310.901738       20.893082\n",
      "Antigua and Barbuda  15459.551675  19840.076123       22.079172\n",
      "Arab World            9694.667544  14555.474921       33.395045\n",
      "...                           ...           ...             ...\n",
      "Vanuatu               2888.309393   3116.645194        7.326333\n",
      "Vietnam               1673.249634   7155.745829       76.616698\n",
      "World                 9680.269697  16253.385518       40.441518\n",
      "Zambia                2190.182814   3485.005238       37.154103\n",
      "Zimbabwe              3324.348171   3028.245976       -9.778010\n",
      "\n",
      "[207 rows x 3 columns]\n"
     ]
    }
   ],
   "source": [
    "gdp_pivoted[\"Percent_Change\"] = 100*(gdp_pivoted[2017]-gdp_pivoted[1990])/gdp_pivoted[2017]\n",
    "print(gdp_pivoted)"
   ]
  },
  {
   "cell_type": "code",
   "execution_count": 54,
   "id": "540f0cb0",
   "metadata": {},
   "outputs": [
    {
     "data": {
      "text/html": [
       "<div>\n",
       "<style scoped>\n",
       "    .dataframe tbody tr th:only-of-type {\n",
       "        vertical-align: middle;\n",
       "    }\n",
       "\n",
       "    .dataframe tbody tr th {\n",
       "        vertical-align: top;\n",
       "    }\n",
       "\n",
       "    .dataframe thead th {\n",
       "        text-align: right;\n",
       "    }\n",
       "</style>\n",
       "<table border=\"1\" class=\"dataframe\">\n",
       "  <thead>\n",
       "    <tr style=\"text-align: right;\">\n",
       "      <th>Year</th>\n",
       "      <th>1990</th>\n",
       "      <th>2017</th>\n",
       "      <th>Percent_Change</th>\n",
       "    </tr>\n",
       "    <tr>\n",
       "      <th>Country</th>\n",
       "      <th></th>\n",
       "      <th></th>\n",
       "      <th></th>\n",
       "    </tr>\n",
       "  </thead>\n",
       "  <tbody>\n",
       "    <tr>\n",
       "      <th>Dem. Rep. Congo</th>\n",
       "      <td>1819.723315</td>\n",
       "      <td>1059.810775</td>\n",
       "      <td>-71.702662</td>\n",
       "    </tr>\n",
       "    <tr>\n",
       "      <th>United Arab Emirates</th>\n",
       "      <td>111454.360446</td>\n",
       "      <td>67183.626557</td>\n",
       "      <td>-65.895124</td>\n",
       "    </tr>\n",
       "    <tr>\n",
       "      <th>Burundi</th>\n",
       "      <td>1184.842440</td>\n",
       "      <td>773.571858</td>\n",
       "      <td>-53.165143</td>\n",
       "    </tr>\n",
       "    <tr>\n",
       "      <th>Ukraine</th>\n",
       "      <td>15751.722440</td>\n",
       "      <td>11871.123624</td>\n",
       "      <td>-32.689398</td>\n",
       "    </tr>\n",
       "    <tr>\n",
       "      <th>Central African Republic</th>\n",
       "      <td>1201.677234</td>\n",
       "      <td>912.802052</td>\n",
       "      <td>-31.647078</td>\n",
       "    </tr>\n",
       "    <tr>\n",
       "      <th>Tajikistan</th>\n",
       "      <td>3869.043636</td>\n",
       "      <td>3089.530208</td>\n",
       "      <td>-25.230808</td>\n",
       "    </tr>\n",
       "    <tr>\n",
       "      <th>Gabon</th>\n",
       "      <td>18179.265733</td>\n",
       "      <td>15006.764091</td>\n",
       "      <td>-21.140478</td>\n",
       "    </tr>\n",
       "    <tr>\n",
       "      <th>Congo</th>\n",
       "      <td>5115.210903</td>\n",
       "      <td>4274.296414</td>\n",
       "      <td>-19.673752</td>\n",
       "    </tr>\n",
       "    <tr>\n",
       "      <th>Madagascar</th>\n",
       "      <td>1853.051624</td>\n",
       "      <td>1584.422678</td>\n",
       "      <td>-16.954374</td>\n",
       "    </tr>\n",
       "    <tr>\n",
       "      <th>Brunei</th>\n",
       "      <td>71230.862143</td>\n",
       "      <td>60995.681114</td>\n",
       "      <td>-16.780173</td>\n",
       "    </tr>\n",
       "    <tr>\n",
       "      <th>Zimbabwe</th>\n",
       "      <td>3324.348171</td>\n",
       "      <td>3028.245976</td>\n",
       "      <td>-9.778010</td>\n",
       "    </tr>\n",
       "    <tr>\n",
       "      <th>The Gambia</th>\n",
       "      <td>2265.238219</td>\n",
       "      <td>2072.652450</td>\n",
       "      <td>-9.291754</td>\n",
       "    </tr>\n",
       "    <tr>\n",
       "      <th>Haiti</th>\n",
       "      <td>3229.618638</td>\n",
       "      <td>2980.960856</td>\n",
       "      <td>-8.341531</td>\n",
       "    </tr>\n",
       "    <tr>\n",
       "      <th>The Bahamas</th>\n",
       "      <td>38099.848616</td>\n",
       "      <td>36297.307023</td>\n",
       "      <td>-4.966048</td>\n",
       "    </tr>\n",
       "    <tr>\n",
       "      <th>Guinea-Bissau</th>\n",
       "      <td>1994.669656</td>\n",
       "      <td>1925.237737</td>\n",
       "      <td>-3.606408</td>\n",
       "    </tr>\n",
       "    <tr>\n",
       "      <th>Kyrgyz Republic</th>\n",
       "      <td>5158.317569</td>\n",
       "      <td>5046.691535</td>\n",
       "      <td>-2.211866</td>\n",
       "    </tr>\n",
       "    <tr>\n",
       "      <th>Comoros</th>\n",
       "      <td>3061.360665</td>\n",
       "      <td>3032.254682</td>\n",
       "      <td>-0.959879</td>\n",
       "    </tr>\n",
       "    <tr>\n",
       "      <th>Niger</th>\n",
       "      <td>1124.922466</td>\n",
       "      <td>1163.683259</td>\n",
       "      <td>3.330871</td>\n",
       "    </tr>\n",
       "    <tr>\n",
       "      <th>Kiribati</th>\n",
       "      <td>2135.606915</td>\n",
       "      <td>2237.336409</td>\n",
       "      <td>4.546902</td>\n",
       "    </tr>\n",
       "    <tr>\n",
       "      <th>Aruba</th>\n",
       "      <td>36605.596143</td>\n",
       "      <td>38442.413838</td>\n",
       "      <td>4.778102</td>\n",
       "    </tr>\n",
       "  </tbody>\n",
       "</table>\n",
       "</div>"
      ],
      "text/plain": [
       "Year                               1990          2017  Percent_Change\n",
       "Country                                                              \n",
       "Dem. Rep. Congo             1819.723315   1059.810775      -71.702662\n",
       "United Arab Emirates      111454.360446  67183.626557      -65.895124\n",
       "Burundi                     1184.842440    773.571858      -53.165143\n",
       "Ukraine                    15751.722440  11871.123624      -32.689398\n",
       "Central African Republic    1201.677234    912.802052      -31.647078\n",
       "Tajikistan                  3869.043636   3089.530208      -25.230808\n",
       "Gabon                      18179.265733  15006.764091      -21.140478\n",
       "Congo                       5115.210903   4274.296414      -19.673752\n",
       "Madagascar                  1853.051624   1584.422678      -16.954374\n",
       "Brunei                     71230.862143  60995.681114      -16.780173\n",
       "Zimbabwe                    3324.348171   3028.245976       -9.778010\n",
       "The Gambia                  2265.238219   2072.652450       -9.291754\n",
       "Haiti                       3229.618638   2980.960856       -8.341531\n",
       "The Bahamas                38099.848616  36297.307023       -4.966048\n",
       "Guinea-Bissau               1994.669656   1925.237737       -3.606408\n",
       "Kyrgyz Republic             5158.317569   5046.691535       -2.211866\n",
       "Comoros                     3061.360665   3032.254682       -0.959879\n",
       "Niger                       1124.922466   1163.683259        3.330871\n",
       "Kiribati                    2135.606915   2237.336409        4.546902\n",
       "Aruba                      36605.596143  38442.413838        4.778102"
      ]
     },
     "execution_count": 54,
     "metadata": {},
     "output_type": "execute_result"
    }
   ],
   "source": [
    "gdp_pivoted_srt = gdp_pivoted.sort_values(\"Percent_Change\")\n",
    "gdp_pivoted_srt.head(20)"
   ]
  },
  {
   "cell_type": "markdown",
   "id": "e8f52298",
   "metadata": {},
   "source": [
    "16. 17 countries experience a negative GDP perc change"
   ]
  },
  {
   "cell_type": "code",
   "execution_count": 62,
   "id": "3b39ba9f",
   "metadata": {},
   "outputs": [
    {
     "data": {
      "text/html": [
       "<div>\n",
       "<style scoped>\n",
       "    .dataframe tbody tr th:only-of-type {\n",
       "        vertical-align: middle;\n",
       "    }\n",
       "\n",
       "    .dataframe tbody tr th {\n",
       "        vertical-align: top;\n",
       "    }\n",
       "\n",
       "    .dataframe thead th {\n",
       "        text-align: right;\n",
       "    }\n",
       "</style>\n",
       "<table border=\"1\" class=\"dataframe\">\n",
       "  <thead>\n",
       "    <tr style=\"text-align: right;\">\n",
       "      <th>Year</th>\n",
       "      <th>1990</th>\n",
       "      <th>2017</th>\n",
       "      <th>Percent_Change</th>\n",
       "    </tr>\n",
       "    <tr>\n",
       "      <th>Country</th>\n",
       "      <th></th>\n",
       "      <th></th>\n",
       "      <th></th>\n",
       "    </tr>\n",
       "  </thead>\n",
       "  <tbody>\n",
       "    <tr>\n",
       "      <th>Equatorial Guinea</th>\n",
       "      <td>1039.985049</td>\n",
       "      <td>22551.083246</td>\n",
       "      <td>95.388314</td>\n",
       "    </tr>\n",
       "    <tr>\n",
       "      <th>China</th>\n",
       "      <td>1423.896348</td>\n",
       "      <td>14344.421239</td>\n",
       "      <td>90.073518</td>\n",
       "    </tr>\n",
       "    <tr>\n",
       "      <th>Myanmar</th>\n",
       "      <td>619.645144</td>\n",
       "      <td>4739.910118</td>\n",
       "      <td>86.927070</td>\n",
       "    </tr>\n",
       "    <tr>\n",
       "      <th>East Asia &amp; Pacific (excluding high income)</th>\n",
       "      <td>2173.223895</td>\n",
       "      <td>12986.322227</td>\n",
       "      <td>83.265286</td>\n",
       "    </tr>\n",
       "    <tr>\n",
       "      <th>East Asia &amp; Pacific (IDA &amp; IBRD)</th>\n",
       "      <td>2196.950288</td>\n",
       "      <td>13123.151792</td>\n",
       "      <td>83.258974</td>\n",
       "    </tr>\n",
       "    <tr>\n",
       "      <th>...</th>\n",
       "      <td>...</td>\n",
       "      <td>...</td>\n",
       "      <td>...</td>\n",
       "    </tr>\n",
       "    <tr>\n",
       "      <th>Central African Republic</th>\n",
       "      <td>1201.677234</td>\n",
       "      <td>912.802052</td>\n",
       "      <td>-31.647078</td>\n",
       "    </tr>\n",
       "    <tr>\n",
       "      <th>Ukraine</th>\n",
       "      <td>15751.722440</td>\n",
       "      <td>11871.123624</td>\n",
       "      <td>-32.689398</td>\n",
       "    </tr>\n",
       "    <tr>\n",
       "      <th>Burundi</th>\n",
       "      <td>1184.842440</td>\n",
       "      <td>773.571858</td>\n",
       "      <td>-53.165143</td>\n",
       "    </tr>\n",
       "    <tr>\n",
       "      <th>United Arab Emirates</th>\n",
       "      <td>111454.360446</td>\n",
       "      <td>67183.626557</td>\n",
       "      <td>-65.895124</td>\n",
       "    </tr>\n",
       "    <tr>\n",
       "      <th>Dem. Rep. Congo</th>\n",
       "      <td>1819.723315</td>\n",
       "      <td>1059.810775</td>\n",
       "      <td>-71.702662</td>\n",
       "    </tr>\n",
       "  </tbody>\n",
       "</table>\n",
       "<p>207 rows × 3 columns</p>\n",
       "</div>"
      ],
      "text/plain": [
       "Year                                                  1990          2017  \\\n",
       "Country                                                                    \n",
       "Equatorial Guinea                              1039.985049  22551.083246   \n",
       "China                                          1423.896348  14344.421239   \n",
       "Myanmar                                         619.645144   4739.910118   \n",
       "East Asia & Pacific (excluding high income)    2173.223895  12986.322227   \n",
       "East Asia & Pacific (IDA & IBRD)               2196.950288  13123.151792   \n",
       "...                                                    ...           ...   \n",
       "Central African Republic                       1201.677234    912.802052   \n",
       "Ukraine                                       15751.722440  11871.123624   \n",
       "Burundi                                        1184.842440    773.571858   \n",
       "United Arab Emirates                         111454.360446  67183.626557   \n",
       "Dem. Rep. Congo                                1819.723315   1059.810775   \n",
       "\n",
       "Year                                         Percent_Change  \n",
       "Country                                                      \n",
       "Equatorial Guinea                                 95.388314  \n",
       "China                                             90.073518  \n",
       "Myanmar                                           86.927070  \n",
       "East Asia & Pacific (excluding high income)       83.265286  \n",
       "East Asia & Pacific (IDA & IBRD)                  83.258974  \n",
       "...                                                     ...  \n",
       "Central African Republic                         -31.647078  \n",
       "Ukraine                                          -32.689398  \n",
       "Burundi                                          -53.165143  \n",
       "United Arab Emirates                             -65.895124  \n",
       "Dem. Rep. Congo                                  -71.702662  \n",
       "\n",
       "[207 rows x 3 columns]"
      ]
     },
     "execution_count": 62,
     "metadata": {},
     "output_type": "execute_result"
    }
   ],
   "source": [
    "gdp_pivoted.sort_values(\"Percent_Change\", ascending = False)"
   ]
  },
  {
   "cell_type": "markdown",
   "id": "b7075543",
   "metadata": {},
   "source": [
    "17. Equatorial Guinea had the highest perc change in GDP"
   ]
  },
  {
   "cell_type": "code",
   "execution_count": 71,
   "id": "a4639d59",
   "metadata": {},
   "outputs": [],
   "source": [
    "gdp_guinea = gdp_df[gdp_df[\"Country\"].isin(['Equatorial Guinea'])]\n",
    "gdp_china = gdp_df[gdp_df[\"Country\"].isin(['China'])]"
   ]
  },
  {
   "cell_type": "code",
   "execution_count": 76,
   "id": "70b05968",
   "metadata": {},
   "outputs": [
    {
     "data": {
      "text/html": [
       "<div>\n",
       "<style scoped>\n",
       "    .dataframe tbody tr th:only-of-type {\n",
       "        vertical-align: middle;\n",
       "    }\n",
       "\n",
       "    .dataframe tbody tr th {\n",
       "        vertical-align: top;\n",
       "    }\n",
       "\n",
       "    .dataframe thead th {\n",
       "        text-align: right;\n",
       "    }\n",
       "</style>\n",
       "<table border=\"1\" class=\"dataframe\">\n",
       "  <thead>\n",
       "    <tr style=\"text-align: right;\">\n",
       "      <th></th>\n",
       "      <th>Country</th>\n",
       "      <th>Year</th>\n",
       "      <th>GDP_per_Capita</th>\n",
       "    </tr>\n",
       "  </thead>\n",
       "  <tbody>\n",
       "    <tr>\n",
       "      <th>1162</th>\n",
       "      <td>China</td>\n",
       "      <td>2019</td>\n",
       "      <td>16092.300767</td>\n",
       "    </tr>\n",
       "    <tr>\n",
       "      <th>1163</th>\n",
       "      <td>China</td>\n",
       "      <td>2018</td>\n",
       "      <td>15242.985858</td>\n",
       "    </tr>\n",
       "    <tr>\n",
       "      <th>1164</th>\n",
       "      <td>China</td>\n",
       "      <td>2017</td>\n",
       "      <td>14344.421239</td>\n",
       "    </tr>\n",
       "    <tr>\n",
       "      <th>1165</th>\n",
       "      <td>China</td>\n",
       "      <td>2016</td>\n",
       "      <td>13487.822482</td>\n",
       "    </tr>\n",
       "    <tr>\n",
       "      <th>1166</th>\n",
       "      <td>China</td>\n",
       "      <td>2015</td>\n",
       "      <td>12691.821553</td>\n",
       "    </tr>\n",
       "  </tbody>\n",
       "</table>\n",
       "</div>"
      ],
      "text/plain": [
       "     Country  Year  GDP_per_Capita\n",
       "1162   China  2019    16092.300767\n",
       "1163   China  2018    15242.985858\n",
       "1164   China  2017    14344.421239\n",
       "1165   China  2016    13487.822482\n",
       "1166   China  2015    12691.821553"
      ]
     },
     "execution_count": 76,
     "metadata": {},
     "output_type": "execute_result"
    }
   ],
   "source": [
    "gdp_china.head()"
   ]
  },
  {
   "cell_type": "code",
   "execution_count": 77,
   "id": "d5e5c885",
   "metadata": {},
   "outputs": [
    {
     "data": {
      "text/html": [
       "<div>\n",
       "<style scoped>\n",
       "    .dataframe tbody tr th:only-of-type {\n",
       "        vertical-align: middle;\n",
       "    }\n",
       "\n",
       "    .dataframe tbody tr th {\n",
       "        vertical-align: top;\n",
       "    }\n",
       "\n",
       "    .dataframe thead th {\n",
       "        text-align: right;\n",
       "    }\n",
       "</style>\n",
       "<table border=\"1\" class=\"dataframe\">\n",
       "  <thead>\n",
       "    <tr style=\"text-align: right;\">\n",
       "      <th></th>\n",
       "      <th>Country</th>\n",
       "      <th>Year</th>\n",
       "      <th>GDP_per_Capita</th>\n",
       "    </tr>\n",
       "  </thead>\n",
       "  <tbody>\n",
       "    <tr>\n",
       "      <th>1754</th>\n",
       "      <td>Equatorial Guinea</td>\n",
       "      <td>2019</td>\n",
       "      <td>18558.003852</td>\n",
       "    </tr>\n",
       "    <tr>\n",
       "      <th>1755</th>\n",
       "      <td>Equatorial Guinea</td>\n",
       "      <td>2018</td>\n",
       "      <td>20359.845144</td>\n",
       "    </tr>\n",
       "    <tr>\n",
       "      <th>1756</th>\n",
       "      <td>Equatorial Guinea</td>\n",
       "      <td>2017</td>\n",
       "      <td>22551.083246</td>\n",
       "    </tr>\n",
       "    <tr>\n",
       "      <th>1757</th>\n",
       "      <td>Equatorial Guinea</td>\n",
       "      <td>2016</td>\n",
       "      <td>24827.072978</td>\n",
       "    </tr>\n",
       "    <tr>\n",
       "      <th>1758</th>\n",
       "      <td>Equatorial Guinea</td>\n",
       "      <td>2015</td>\n",
       "      <td>28313.602763</td>\n",
       "    </tr>\n",
       "  </tbody>\n",
       "</table>\n",
       "</div>"
      ],
      "text/plain": [
       "                Country  Year  GDP_per_Capita\n",
       "1754  Equatorial Guinea  2019    18558.003852\n",
       "1755  Equatorial Guinea  2018    20359.845144\n",
       "1756  Equatorial Guinea  2017    22551.083246\n",
       "1757  Equatorial Guinea  2016    24827.072978\n",
       "1758  Equatorial Guinea  2015    28313.602763"
      ]
     },
     "execution_count": 77,
     "metadata": {},
     "output_type": "execute_result"
    }
   ],
   "source": [
    "gdp_guinea.head()"
   ]
  },
  {
   "cell_type": "code",
   "execution_count": 89,
   "id": "c3de223e",
   "metadata": {},
   "outputs": [
    {
     "data": {
      "image/png": "[encoded data removed]",
      "text/plain": [
       "<Figure size 432x288 with 1 Axes>"
      ]
     },
     "metadata": {
      "needs_background": "light"
     },
     "output_type": "display_data"
    }
   ],
   "source": [
    "plt.plot(gdp_china[\"Year\"], \n",
    "         gdp_china[\"GDP_per_Capita\"])\n",
    "plt.plot(gdp_guinea[\"Year\"],\n",
    "        gdp_guinea[\"GDP_per_Capita\"]);\n",
    "plt.xlabel(\"Year\")\n",
    "plt.ylabel(\"GDP_per_Capita\")\n",
    "plt.title(\"Change of GDP\");"
   ]
  }
 ],
 "metadata": {
  "kernelspec": {
   "display_name": "Python 3",
   "language": "python",
   "name": "python3"
  },
  "language_info": {
   "codemirror_mode": {
    "name": "ipython",
    "version": 3
   },
   "file_extension": ".py",
   "mimetype": "text/x-python",
   "name": "python",
   "nbconvert_exporter": "python",
   "pygments_lexer": "ipython3",
   "version": "3.8.8"
  }
 },
 "nbformat": 4,
 "nbformat_minor": 5
}
